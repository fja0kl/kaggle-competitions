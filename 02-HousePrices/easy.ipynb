{
 "cells": [
  {
   "cell_type": "code",
   "execution_count": 1,
   "metadata": {},
   "outputs": [],
   "source": [
    "import numpy as np\n",
    "import matplotlib.pyplot as plt\n",
    "%matplotlib inline\n",
    "\n",
    "import pandas as pd\n",
    "\n",
    "import warnings\n",
    "warnings.filterwarnings('ignore')"
   ]
  },
  {
   "cell_type": "code",
   "execution_count": 2,
   "metadata": {},
   "outputs": [],
   "source": [
    "trainOri = pd.read_csv('./input/train.csv')\n",
    "testOri = pd.read_csv('./input/test.csv')\n",
    "\n",
    "train = trainOri.copy()\n",
    "test = testOri.copy()"
   ]
  },
  {
   "cell_type": "code",
   "execution_count": 3,
   "metadata": {},
   "outputs": [
    {
     "data": {
      "text/html": [
       "<div>\n",
       "<style scoped>\n",
       "    .dataframe tbody tr th:only-of-type {\n",
       "        vertical-align: middle;\n",
       "    }\n",
       "\n",
       "    .dataframe tbody tr th {\n",
       "        vertical-align: top;\n",
       "    }\n",
       "\n",
       "    .dataframe thead th {\n",
       "        text-align: right;\n",
       "    }\n",
       "</style>\n",
       "<table border=\"1\" class=\"dataframe\">\n",
       "  <thead>\n",
       "    <tr style=\"text-align: right;\">\n",
       "      <th></th>\n",
       "      <th>Id</th>\n",
       "      <th>MSSubClass</th>\n",
       "      <th>MSZoning</th>\n",
       "      <th>LotFrontage</th>\n",
       "      <th>LotArea</th>\n",
       "      <th>Street</th>\n",
       "      <th>Alley</th>\n",
       "      <th>LotShape</th>\n",
       "      <th>LandContour</th>\n",
       "      <th>Utilities</th>\n",
       "      <th>...</th>\n",
       "      <th>PoolArea</th>\n",
       "      <th>PoolQC</th>\n",
       "      <th>Fence</th>\n",
       "      <th>MiscFeature</th>\n",
       "      <th>MiscVal</th>\n",
       "      <th>MoSold</th>\n",
       "      <th>YrSold</th>\n",
       "      <th>SaleType</th>\n",
       "      <th>SaleCondition</th>\n",
       "      <th>SalePrice</th>\n",
       "    </tr>\n",
       "  </thead>\n",
       "  <tbody>\n",
       "    <tr>\n",
       "      <th>0</th>\n",
       "      <td>1</td>\n",
       "      <td>60</td>\n",
       "      <td>RL</td>\n",
       "      <td>65.0</td>\n",
       "      <td>8450</td>\n",
       "      <td>Pave</td>\n",
       "      <td>NaN</td>\n",
       "      <td>Reg</td>\n",
       "      <td>Lvl</td>\n",
       "      <td>AllPub</td>\n",
       "      <td>...</td>\n",
       "      <td>0</td>\n",
       "      <td>NaN</td>\n",
       "      <td>NaN</td>\n",
       "      <td>NaN</td>\n",
       "      <td>0</td>\n",
       "      <td>2</td>\n",
       "      <td>2008</td>\n",
       "      <td>WD</td>\n",
       "      <td>Normal</td>\n",
       "      <td>208500</td>\n",
       "    </tr>\n",
       "    <tr>\n",
       "      <th>1</th>\n",
       "      <td>2</td>\n",
       "      <td>20</td>\n",
       "      <td>RL</td>\n",
       "      <td>80.0</td>\n",
       "      <td>9600</td>\n",
       "      <td>Pave</td>\n",
       "      <td>NaN</td>\n",
       "      <td>Reg</td>\n",
       "      <td>Lvl</td>\n",
       "      <td>AllPub</td>\n",
       "      <td>...</td>\n",
       "      <td>0</td>\n",
       "      <td>NaN</td>\n",
       "      <td>NaN</td>\n",
       "      <td>NaN</td>\n",
       "      <td>0</td>\n",
       "      <td>5</td>\n",
       "      <td>2007</td>\n",
       "      <td>WD</td>\n",
       "      <td>Normal</td>\n",
       "      <td>181500</td>\n",
       "    </tr>\n",
       "    <tr>\n",
       "      <th>2</th>\n",
       "      <td>3</td>\n",
       "      <td>60</td>\n",
       "      <td>RL</td>\n",
       "      <td>68.0</td>\n",
       "      <td>11250</td>\n",
       "      <td>Pave</td>\n",
       "      <td>NaN</td>\n",
       "      <td>IR1</td>\n",
       "      <td>Lvl</td>\n",
       "      <td>AllPub</td>\n",
       "      <td>...</td>\n",
       "      <td>0</td>\n",
       "      <td>NaN</td>\n",
       "      <td>NaN</td>\n",
       "      <td>NaN</td>\n",
       "      <td>0</td>\n",
       "      <td>9</td>\n",
       "      <td>2008</td>\n",
       "      <td>WD</td>\n",
       "      <td>Normal</td>\n",
       "      <td>223500</td>\n",
       "    </tr>\n",
       "    <tr>\n",
       "      <th>3</th>\n",
       "      <td>4</td>\n",
       "      <td>70</td>\n",
       "      <td>RL</td>\n",
       "      <td>60.0</td>\n",
       "      <td>9550</td>\n",
       "      <td>Pave</td>\n",
       "      <td>NaN</td>\n",
       "      <td>IR1</td>\n",
       "      <td>Lvl</td>\n",
       "      <td>AllPub</td>\n",
       "      <td>...</td>\n",
       "      <td>0</td>\n",
       "      <td>NaN</td>\n",
       "      <td>NaN</td>\n",
       "      <td>NaN</td>\n",
       "      <td>0</td>\n",
       "      <td>2</td>\n",
       "      <td>2006</td>\n",
       "      <td>WD</td>\n",
       "      <td>Abnorml</td>\n",
       "      <td>140000</td>\n",
       "    </tr>\n",
       "    <tr>\n",
       "      <th>4</th>\n",
       "      <td>5</td>\n",
       "      <td>60</td>\n",
       "      <td>RL</td>\n",
       "      <td>84.0</td>\n",
       "      <td>14260</td>\n",
       "      <td>Pave</td>\n",
       "      <td>NaN</td>\n",
       "      <td>IR1</td>\n",
       "      <td>Lvl</td>\n",
       "      <td>AllPub</td>\n",
       "      <td>...</td>\n",
       "      <td>0</td>\n",
       "      <td>NaN</td>\n",
       "      <td>NaN</td>\n",
       "      <td>NaN</td>\n",
       "      <td>0</td>\n",
       "      <td>12</td>\n",
       "      <td>2008</td>\n",
       "      <td>WD</td>\n",
       "      <td>Normal</td>\n",
       "      <td>250000</td>\n",
       "    </tr>\n",
       "  </tbody>\n",
       "</table>\n",
       "<p>5 rows × 81 columns</p>\n",
       "</div>"
      ],
      "text/plain": [
       "   Id  MSSubClass MSZoning  LotFrontage  LotArea Street Alley LotShape  \\\n",
       "0   1          60       RL         65.0     8450   Pave   NaN      Reg   \n",
       "1   2          20       RL         80.0     9600   Pave   NaN      Reg   \n",
       "2   3          60       RL         68.0    11250   Pave   NaN      IR1   \n",
       "3   4          70       RL         60.0     9550   Pave   NaN      IR1   \n",
       "4   5          60       RL         84.0    14260   Pave   NaN      IR1   \n",
       "\n",
       "  LandContour Utilities    ...     PoolArea PoolQC Fence MiscFeature MiscVal  \\\n",
       "0         Lvl    AllPub    ...            0    NaN   NaN         NaN       0   \n",
       "1         Lvl    AllPub    ...            0    NaN   NaN         NaN       0   \n",
       "2         Lvl    AllPub    ...            0    NaN   NaN         NaN       0   \n",
       "3         Lvl    AllPub    ...            0    NaN   NaN         NaN       0   \n",
       "4         Lvl    AllPub    ...            0    NaN   NaN         NaN       0   \n",
       "\n",
       "  MoSold YrSold  SaleType  SaleCondition  SalePrice  \n",
       "0      2   2008        WD         Normal     208500  \n",
       "1      5   2007        WD         Normal     181500  \n",
       "2      9   2008        WD         Normal     223500  \n",
       "3      2   2006        WD        Abnorml     140000  \n",
       "4     12   2008        WD         Normal     250000  \n",
       "\n",
       "[5 rows x 81 columns]"
      ]
     },
     "execution_count": 3,
     "metadata": {},
     "output_type": "execute_result"
    }
   ],
   "source": [
    "train.head()"
   ]
  },
  {
   "cell_type": "code",
   "execution_count": 4,
   "metadata": {},
   "outputs": [
    {
     "data": {
      "text/html": [
       "<div>\n",
       "<style scoped>\n",
       "    .dataframe tbody tr th:only-of-type {\n",
       "        vertical-align: middle;\n",
       "    }\n",
       "\n",
       "    .dataframe tbody tr th {\n",
       "        vertical-align: top;\n",
       "    }\n",
       "\n",
       "    .dataframe thead th {\n",
       "        text-align: right;\n",
       "    }\n",
       "</style>\n",
       "<table border=\"1\" class=\"dataframe\">\n",
       "  <thead>\n",
       "    <tr style=\"text-align: right;\">\n",
       "      <th></th>\n",
       "      <th>Id</th>\n",
       "      <th>MSSubClass</th>\n",
       "      <th>MSZoning</th>\n",
       "      <th>LotFrontage</th>\n",
       "      <th>LotArea</th>\n",
       "      <th>Street</th>\n",
       "      <th>Alley</th>\n",
       "      <th>LotShape</th>\n",
       "      <th>LandContour</th>\n",
       "      <th>Utilities</th>\n",
       "      <th>...</th>\n",
       "      <th>ScreenPorch</th>\n",
       "      <th>PoolArea</th>\n",
       "      <th>PoolQC</th>\n",
       "      <th>Fence</th>\n",
       "      <th>MiscFeature</th>\n",
       "      <th>MiscVal</th>\n",
       "      <th>MoSold</th>\n",
       "      <th>YrSold</th>\n",
       "      <th>SaleType</th>\n",
       "      <th>SaleCondition</th>\n",
       "    </tr>\n",
       "  </thead>\n",
       "  <tbody>\n",
       "    <tr>\n",
       "      <th>0</th>\n",
       "      <td>1461</td>\n",
       "      <td>20</td>\n",
       "      <td>RH</td>\n",
       "      <td>80.0</td>\n",
       "      <td>11622</td>\n",
       "      <td>Pave</td>\n",
       "      <td>NaN</td>\n",
       "      <td>Reg</td>\n",
       "      <td>Lvl</td>\n",
       "      <td>AllPub</td>\n",
       "      <td>...</td>\n",
       "      <td>120</td>\n",
       "      <td>0</td>\n",
       "      <td>NaN</td>\n",
       "      <td>MnPrv</td>\n",
       "      <td>NaN</td>\n",
       "      <td>0</td>\n",
       "      <td>6</td>\n",
       "      <td>2010</td>\n",
       "      <td>WD</td>\n",
       "      <td>Normal</td>\n",
       "    </tr>\n",
       "    <tr>\n",
       "      <th>1</th>\n",
       "      <td>1462</td>\n",
       "      <td>20</td>\n",
       "      <td>RL</td>\n",
       "      <td>81.0</td>\n",
       "      <td>14267</td>\n",
       "      <td>Pave</td>\n",
       "      <td>NaN</td>\n",
       "      <td>IR1</td>\n",
       "      <td>Lvl</td>\n",
       "      <td>AllPub</td>\n",
       "      <td>...</td>\n",
       "      <td>0</td>\n",
       "      <td>0</td>\n",
       "      <td>NaN</td>\n",
       "      <td>NaN</td>\n",
       "      <td>Gar2</td>\n",
       "      <td>12500</td>\n",
       "      <td>6</td>\n",
       "      <td>2010</td>\n",
       "      <td>WD</td>\n",
       "      <td>Normal</td>\n",
       "    </tr>\n",
       "    <tr>\n",
       "      <th>2</th>\n",
       "      <td>1463</td>\n",
       "      <td>60</td>\n",
       "      <td>RL</td>\n",
       "      <td>74.0</td>\n",
       "      <td>13830</td>\n",
       "      <td>Pave</td>\n",
       "      <td>NaN</td>\n",
       "      <td>IR1</td>\n",
       "      <td>Lvl</td>\n",
       "      <td>AllPub</td>\n",
       "      <td>...</td>\n",
       "      <td>0</td>\n",
       "      <td>0</td>\n",
       "      <td>NaN</td>\n",
       "      <td>MnPrv</td>\n",
       "      <td>NaN</td>\n",
       "      <td>0</td>\n",
       "      <td>3</td>\n",
       "      <td>2010</td>\n",
       "      <td>WD</td>\n",
       "      <td>Normal</td>\n",
       "    </tr>\n",
       "    <tr>\n",
       "      <th>3</th>\n",
       "      <td>1464</td>\n",
       "      <td>60</td>\n",
       "      <td>RL</td>\n",
       "      <td>78.0</td>\n",
       "      <td>9978</td>\n",
       "      <td>Pave</td>\n",
       "      <td>NaN</td>\n",
       "      <td>IR1</td>\n",
       "      <td>Lvl</td>\n",
       "      <td>AllPub</td>\n",
       "      <td>...</td>\n",
       "      <td>0</td>\n",
       "      <td>0</td>\n",
       "      <td>NaN</td>\n",
       "      <td>NaN</td>\n",
       "      <td>NaN</td>\n",
       "      <td>0</td>\n",
       "      <td>6</td>\n",
       "      <td>2010</td>\n",
       "      <td>WD</td>\n",
       "      <td>Normal</td>\n",
       "    </tr>\n",
       "    <tr>\n",
       "      <th>4</th>\n",
       "      <td>1465</td>\n",
       "      <td>120</td>\n",
       "      <td>RL</td>\n",
       "      <td>43.0</td>\n",
       "      <td>5005</td>\n",
       "      <td>Pave</td>\n",
       "      <td>NaN</td>\n",
       "      <td>IR1</td>\n",
       "      <td>HLS</td>\n",
       "      <td>AllPub</td>\n",
       "      <td>...</td>\n",
       "      <td>144</td>\n",
       "      <td>0</td>\n",
       "      <td>NaN</td>\n",
       "      <td>NaN</td>\n",
       "      <td>NaN</td>\n",
       "      <td>0</td>\n",
       "      <td>1</td>\n",
       "      <td>2010</td>\n",
       "      <td>WD</td>\n",
       "      <td>Normal</td>\n",
       "    </tr>\n",
       "  </tbody>\n",
       "</table>\n",
       "<p>5 rows × 80 columns</p>\n",
       "</div>"
      ],
      "text/plain": [
       "     Id  MSSubClass MSZoning  LotFrontage  LotArea Street Alley LotShape  \\\n",
       "0  1461          20       RH         80.0    11622   Pave   NaN      Reg   \n",
       "1  1462          20       RL         81.0    14267   Pave   NaN      IR1   \n",
       "2  1463          60       RL         74.0    13830   Pave   NaN      IR1   \n",
       "3  1464          60       RL         78.0     9978   Pave   NaN      IR1   \n",
       "4  1465         120       RL         43.0     5005   Pave   NaN      IR1   \n",
       "\n",
       "  LandContour Utilities      ...       ScreenPorch PoolArea PoolQC  Fence  \\\n",
       "0         Lvl    AllPub      ...               120        0    NaN  MnPrv   \n",
       "1         Lvl    AllPub      ...                 0        0    NaN    NaN   \n",
       "2         Lvl    AllPub      ...                 0        0    NaN  MnPrv   \n",
       "3         Lvl    AllPub      ...                 0        0    NaN    NaN   \n",
       "4         HLS    AllPub      ...               144        0    NaN    NaN   \n",
       "\n",
       "  MiscFeature MiscVal MoSold  YrSold  SaleType  SaleCondition  \n",
       "0         NaN       0      6    2010        WD         Normal  \n",
       "1        Gar2   12500      6    2010        WD         Normal  \n",
       "2         NaN       0      3    2010        WD         Normal  \n",
       "3         NaN       0      6    2010        WD         Normal  \n",
       "4         NaN       0      1    2010        WD         Normal  \n",
       "\n",
       "[5 rows x 80 columns]"
      ]
     },
     "execution_count": 4,
     "metadata": {},
     "output_type": "execute_result"
    }
   ],
   "source": [
    "test.head()"
   ]
  },
  {
   "cell_type": "markdown",
   "metadata": {},
   "source": [
    "获取存在缺失值的特征,同时计算缺失率"
   ]
  },
  {
   "cell_type": "code",
   "execution_count": 5,
   "metadata": {},
   "outputs": [
    {
     "data": {
      "text/plain": [
       "PoolQC          0.995205\n",
       "MiscFeature     0.963014\n",
       "Alley           0.937671\n",
       "Fence           0.807534\n",
       "FireplaceQu     0.472603\n",
       "LotFrontage     0.177397\n",
       "GarageYrBlt     0.055479\n",
       "GarageType      0.055479\n",
       "GarageFinish    0.055479\n",
       "GarageQual      0.055479\n",
       "GarageCond      0.055479\n",
       "BsmtFinType2    0.026027\n",
       "BsmtExposure    0.026027\n",
       "BsmtFinType1    0.025342\n",
       "BsmtCond        0.025342\n",
       "BsmtQual        0.025342\n",
       "MasVnrArea      0.005479\n",
       "MasVnrType      0.005479\n",
       "Electrical      0.000685\n",
       "dtype: float64"
      ]
     },
     "execution_count": 5,
     "metadata": {},
     "output_type": "execute_result"
    }
   ],
   "source": [
    "aa = train.isnull().sum()\n",
    "aa[aa>0].sort_values(ascending=False)/len(train)"
   ]
  },
  {
   "cell_type": "code",
   "execution_count": 6,
   "metadata": {},
   "outputs": [
    {
     "data": {
      "text/plain": [
       "PoolQC          0.997944\n",
       "MiscFeature     0.965045\n",
       "Alley           0.926662\n",
       "Fence           0.801234\n",
       "FireplaceQu     0.500343\n",
       "LotFrontage     0.155586\n",
       "GarageYrBlt     0.053461\n",
       "GarageCond      0.053461\n",
       "GarageQual      0.053461\n",
       "GarageFinish    0.053461\n",
       "GarageType      0.052090\n",
       "BsmtCond        0.030843\n",
       "BsmtExposure    0.030158\n",
       "BsmtQual        0.030158\n",
       "BsmtFinType1    0.028787\n",
       "BsmtFinType2    0.028787\n",
       "MasVnrType      0.010966\n",
       "MasVnrArea      0.010281\n",
       "MSZoning        0.002742\n",
       "BsmtFullBath    0.001371\n",
       "BsmtHalfBath    0.001371\n",
       "Utilities       0.001371\n",
       "Functional      0.001371\n",
       "Exterior2nd     0.000685\n",
       "Exterior1st     0.000685\n",
       "SaleType        0.000685\n",
       "BsmtFinSF1      0.000685\n",
       "BsmtFinSF2      0.000685\n",
       "BsmtUnfSF       0.000685\n",
       "KitchenQual     0.000685\n",
       "GarageCars      0.000685\n",
       "GarageArea      0.000685\n",
       "TotalBsmtSF     0.000685\n",
       "dtype: float64"
      ]
     },
     "execution_count": 6,
     "metadata": {},
     "output_type": "execute_result"
    }
   ],
   "source": [
    "aa = test.isnull().sum()\n",
    "aa[aa>0].sort_values(ascending=False)/len(test)"
   ]
  },
  {
   "cell_type": "code",
   "execution_count": 7,
   "metadata": {},
   "outputs": [
    {
     "name": "stdout",
     "output_type": "stream",
     "text": [
      "43\n",
      "Index(['MSZoning', 'Street', 'Alley', 'LotShape', 'LandContour', 'Utilities',\n",
      "       'LotConfig', 'LandSlope', 'Neighborhood', 'Condition1', 'Condition2',\n",
      "       'BldgType', 'HouseStyle', 'RoofStyle', 'RoofMatl', 'Exterior1st',\n",
      "       'Exterior2nd', 'MasVnrType', 'ExterQual', 'ExterCond', 'Foundation',\n",
      "       'BsmtQual', 'BsmtCond', 'BsmtExposure', 'BsmtFinType1', 'BsmtFinType2',\n",
      "       'Heating', 'HeatingQC', 'CentralAir', 'Electrical', 'KitchenQual',\n",
      "       'Functional', 'FireplaceQu', 'GarageType', 'GarageFinish', 'GarageQual',\n",
      "       'GarageCond', 'PavedDrive', 'PoolQC', 'Fence', 'MiscFeature',\n",
      "       'SaleType', 'SaleCondition'],\n",
      "      dtype='object')\n"
     ]
    }
   ],
   "source": [
    "textFeaturesTr = train.select_dtypes(include=[object])\n",
    "print(len(textFeaturesTr.columns))\n",
    "print(textFeaturesTr.columns)"
   ]
  },
  {
   "cell_type": "code",
   "execution_count": 8,
   "metadata": {},
   "outputs": [
    {
     "name": "stdout",
     "output_type": "stream",
     "text": [
      "43\n",
      "Index(['MSZoning', 'Street', 'Alley', 'LotShape', 'LandContour', 'Utilities',\n",
      "       'LotConfig', 'LandSlope', 'Neighborhood', 'Condition1', 'Condition2',\n",
      "       'BldgType', 'HouseStyle', 'RoofStyle', 'RoofMatl', 'Exterior1st',\n",
      "       'Exterior2nd', 'MasVnrType', 'ExterQual', 'ExterCond', 'Foundation',\n",
      "       'BsmtQual', 'BsmtCond', 'BsmtExposure', 'BsmtFinType1', 'BsmtFinType2',\n",
      "       'Heating', 'HeatingQC', 'CentralAir', 'Electrical', 'KitchenQual',\n",
      "       'Functional', 'FireplaceQu', 'GarageType', 'GarageFinish', 'GarageQual',\n",
      "       'GarageCond', 'PavedDrive', 'PoolQC', 'Fence', 'MiscFeature',\n",
      "       'SaleType', 'SaleCondition'],\n",
      "      dtype='object')\n"
     ]
    }
   ],
   "source": [
    "textFeaturesTe = test.select_dtypes(include=[object])\n",
    "print(len(textFeaturesTe.columns))\n",
    "print(textFeaturesTe.columns)"
   ]
  },
  {
   "cell_type": "markdown",
   "metadata": {},
   "source": [
    "对特征分组：\n",
    "\n",
    "MSSubClass、MSZoning\n",
    "\n",
    "LotFrontage\n",
    "\n",
    "LotArea\n",
    "\n",
    "Street、Alley\n",
    "\n",
    "LotShape、LandContour\n",
    "\n",
    "Utilities\n",
    "\n",
    "LotConfig、LandSlope、Neighborhood、Condition1、Condition2\n",
    "\n",
    "BldgType、HouseStyle\n",
    "\n",
    "OverallQual、OverallCond\n",
    "\n",
    "YearBuilt、YearRemodAdd\n",
    "\n",
    "RoofStyle、RoofMatl、Exterior1st、Exterior2nd、MasVnrType、MasVnrArea、ExterQual、ExterCond、Foundation\n",
    "\n",
    "BsmtQual、BsmtCond、BsmtExposure、BsmtFinType1、BsmtFinSF1、BsmtFinType2、BsmtFinSF2、BsmtUnfSF、TotalBsmtSF\n",
    "\n",
    "Heating、HeatingQC、CentralAir、Electrical\n",
    "\n",
    "1stFlrSF、2ndFlrSF、LowQualFinSF、GrLivArea\n",
    "\n",
    "BsmtFullBath、BsmtHalfBath、FullBath、HalfBath、Bedroom、Kitchen、KitchenQual、TotRmsAbvGrd\n",
    "\n",
    "Functional\n",
    "\n",
    "Fireplaces、FireplaceQu\n",
    "\n",
    "GarageType、GarageYrBlt、GarageFinish、GarageCars、GarageArea、GarageQual、GarageCond\n",
    "\n",
    "PavedDrive、WoodDeckSF\n",
    "\n",
    "OpenPorchSF、EnclosedPorch、3SsnPorch、ScreenPorch\n",
    "\n",
    "PoolArea、PoolQC\n",
    "\n",
    "Fence\n",
    "\n",
    "MiscFeature\n",
    "\n",
    "MoSold、YrSold\n",
    "\n",
    "SaleType、SaleCondition"
   ]
  },
  {
   "cell_type": "code",
   "execution_count": 9,
   "metadata": {},
   "outputs": [
    {
     "data": {
      "text/plain": [
       "20     536\n",
       "60     299\n",
       "50     144\n",
       "120     87\n",
       "30      69\n",
       "160     63\n",
       "70      60\n",
       "80      58\n",
       "90      52\n",
       "190     30\n",
       "85      20\n",
       "75      16\n",
       "45      12\n",
       "180     10\n",
       "40       4\n",
       "Name: MSSubClass, dtype: int64"
      ]
     },
     "execution_count": 9,
     "metadata": {},
     "output_type": "execute_result"
    }
   ],
   "source": [
    "train['MSSubClass'].value_counts()"
   ]
  },
  {
   "cell_type": "code",
   "execution_count": 10,
   "metadata": {},
   "outputs": [],
   "source": [
    "def missing_rate(df,idx):\n",
    "    print(df[idx].isnull().sum()/len(df))"
   ]
  },
  {
   "cell_type": "markdown",
   "metadata": {},
   "source": [
    "## Prepare the Data"
   ]
  },
  {
   "cell_type": "markdown",
   "metadata": {},
   "source": [
    "### Data Cleaning"
   ]
  },
  {
   "cell_type": "code",
   "execution_count": 11,
   "metadata": {},
   "outputs": [
    {
     "data": {
      "text/plain": [
       "PoolQC          0.995205\n",
       "MiscFeature     0.963014\n",
       "Alley           0.937671\n",
       "Fence           0.807534\n",
       "FireplaceQu     0.472603\n",
       "LotFrontage     0.177397\n",
       "GarageYrBlt     0.055479\n",
       "GarageType      0.055479\n",
       "GarageFinish    0.055479\n",
       "GarageQual      0.055479\n",
       "GarageCond      0.055479\n",
       "BsmtFinType2    0.026027\n",
       "BsmtExposure    0.026027\n",
       "BsmtFinType1    0.025342\n",
       "BsmtCond        0.025342\n",
       "BsmtQual        0.025342\n",
       "MasVnrArea      0.005479\n",
       "MasVnrType      0.005479\n",
       "Electrical      0.000685\n",
       "dtype: float64"
      ]
     },
     "execution_count": 11,
     "metadata": {},
     "output_type": "execute_result"
    }
   ],
   "source": [
    "#有缺失值的字段\n",
    "aa = train.isnull().sum()\n",
    "aa[aa>0].sort_values(ascending=False)/len(train)"
   ]
  },
  {
   "cell_type": "code",
   "execution_count": 12,
   "metadata": {},
   "outputs": [
    {
     "name": "stdout",
     "output_type": "stream",
     "text": [
      "19\n",
      "['LotFrontage', 'Alley', 'MasVnrType', 'MasVnrArea', 'BsmtQual', 'BsmtCond', 'BsmtExposure', 'BsmtFinType1', 'BsmtFinType2', 'Electrical', 'FireplaceQu', 'GarageType', 'GarageYrBlt', 'GarageFinish', 'GarageQual', 'GarageCond', 'PoolQC', 'Fence', 'MiscFeature']\n"
     ]
    }
   ],
   "source": [
    "aa = train.isnull().sum()\n",
    "missingColsTr= aa[aa>0]\n",
    "missingColsTr = missingColsTr.index.tolist()\n",
    "print(len(missingColsTr))\n",
    "print(missingColsTr)"
   ]
  },
  {
   "cell_type": "markdown",
   "metadata": {},
   "source": [
    "一共19个特征出现空缺值。\n",
    "\n",
    "将填充方式相同的特征集合到一起，一块填充"
   ]
  },
  {
   "cell_type": "code",
   "execution_count": 13,
   "metadata": {},
   "outputs": [
    {
     "name": "stdout",
     "output_type": "stream",
     "text": [
      "33\n",
      "['MSZoning', 'LotFrontage', 'Alley', 'Utilities', 'Exterior1st', 'Exterior2nd', 'MasVnrType', 'MasVnrArea', 'BsmtQual', 'BsmtCond', 'BsmtExposure', 'BsmtFinType1', 'BsmtFinSF1', 'BsmtFinType2', 'BsmtFinSF2', 'BsmtUnfSF', 'TotalBsmtSF', 'BsmtFullBath', 'BsmtHalfBath', 'KitchenQual', 'Functional', 'FireplaceQu', 'GarageType', 'GarageYrBlt', 'GarageFinish', 'GarageCars', 'GarageArea', 'GarageQual', 'GarageCond', 'PoolQC', 'Fence', 'MiscFeature', 'SaleType']\n"
     ]
    }
   ],
   "source": [
    "aa = test.isnull().sum()\n",
    "missingColsTe= aa[aa>0]\n",
    "missingColsTe = missingColsTe.index.tolist()\n",
    "print(len(missingColsTe))\n",
    "print(missingColsTe)"
   ]
  },
  {
   "cell_type": "code",
   "execution_count": 14,
   "metadata": {},
   "outputs": [],
   "source": [
    "def show_categorical(df, cols):\n",
    "    print(df[cols].value_counts())"
   ]
  },
  {
   "cell_type": "code",
   "execution_count": 15,
   "metadata": {},
   "outputs": [
    {
     "ename": "NameError",
     "evalue": "name 'missingCols' is not defined",
     "output_type": "error",
     "traceback": [
      "\u001b[0;31m---------------------------------------------------------------------------\u001b[0m",
      "\u001b[0;31mNameError\u001b[0m                                 Traceback (most recent call last)",
      "\u001b[0;32m<ipython-input-15-c9defa46d27b>\u001b[0m in \u001b[0;36m<module>\u001b[0;34m()\u001b[0m\n\u001b[0;32m----> 1\u001b[0;31m \u001b[0;32mfor\u001b[0m \u001b[0mcol\u001b[0m \u001b[0;32min\u001b[0m \u001b[0mmissingCols\u001b[0m\u001b[0;34m:\u001b[0m\u001b[0;34m\u001b[0m\u001b[0m\n\u001b[0m\u001b[1;32m      2\u001b[0m     \u001b[0mshow_categorical\u001b[0m\u001b[0;34m(\u001b[0m\u001b[0mtrain\u001b[0m\u001b[0;34m,\u001b[0m\u001b[0mcol\u001b[0m\u001b[0;34m)\u001b[0m\u001b[0;34m\u001b[0m\u001b[0m\n\u001b[1;32m      3\u001b[0m     \u001b[0mprint\u001b[0m\u001b[0;34m(\u001b[0m\u001b[0;34m\"=\"\u001b[0m\u001b[0;34m*\u001b[0m\u001b[0;36m64\u001b[0m\u001b[0;34m)\u001b[0m\u001b[0;34m\u001b[0m\u001b[0m\n",
      "\u001b[0;31mNameError\u001b[0m: name 'missingCols' is not defined"
     ]
    }
   ],
   "source": [
    "for col in missingCols:\n",
    "    show_categorical(train,col)\n",
    "    print(\"=\"*64)"
   ]
  },
  {
   "cell_type": "code",
   "execution_count": 16,
   "metadata": {},
   "outputs": [],
   "source": [
    "#使用None填充：string类型\n",
    "cols = ['Alley','MasVnrType','BsmtQual','BsmtCond','BsmtExposure','BsmtFinType1','BsmtFinType2','Electrical',\\\n",
    "       'FireplaceQu','GarageType','GarageFinish','GarageQual','GarageCond','PoolQC','Fence','MiscFeature']\n",
    "colsZero = ['MasVnrArea','GarageYrBlt']\n",
    "#'GarageYrBlt'\n",
    "#'LotFrontage'\n",
    "for col in cols:\n",
    "    train[col].fillna('NA',inplace=True)\n",
    "\n",
    "for col in colsZero:\n",
    "    train[col].fillna(0,inplace=True)"
   ]
  },
  {
   "cell_type": "code",
   "execution_count": 17,
   "metadata": {},
   "outputs": [
    {
     "data": {
      "text/html": [
       "<div>\n",
       "<style scoped>\n",
       "    .dataframe tbody tr th:only-of-type {\n",
       "        vertical-align: middle;\n",
       "    }\n",
       "\n",
       "    .dataframe tbody tr th {\n",
       "        vertical-align: top;\n",
       "    }\n",
       "\n",
       "    .dataframe thead th {\n",
       "        text-align: right;\n",
       "    }\n",
       "</style>\n",
       "<table border=\"1\" class=\"dataframe\">\n",
       "  <thead>\n",
       "    <tr style=\"text-align: right;\">\n",
       "      <th></th>\n",
       "      <th>Id</th>\n",
       "      <th>MSSubClass</th>\n",
       "      <th>MSZoning</th>\n",
       "      <th>LotFrontage</th>\n",
       "      <th>LotArea</th>\n",
       "      <th>Street</th>\n",
       "      <th>Alley</th>\n",
       "      <th>LotShape</th>\n",
       "      <th>LandContour</th>\n",
       "      <th>Utilities</th>\n",
       "      <th>...</th>\n",
       "      <th>PoolArea</th>\n",
       "      <th>PoolQC</th>\n",
       "      <th>Fence</th>\n",
       "      <th>MiscFeature</th>\n",
       "      <th>MiscVal</th>\n",
       "      <th>MoSold</th>\n",
       "      <th>YrSold</th>\n",
       "      <th>SaleType</th>\n",
       "      <th>SaleCondition</th>\n",
       "      <th>SalePrice</th>\n",
       "    </tr>\n",
       "  </thead>\n",
       "  <tbody>\n",
       "    <tr>\n",
       "      <th>0</th>\n",
       "      <td>1</td>\n",
       "      <td>60</td>\n",
       "      <td>RL</td>\n",
       "      <td>65.0</td>\n",
       "      <td>8450</td>\n",
       "      <td>Pave</td>\n",
       "      <td>NA</td>\n",
       "      <td>Reg</td>\n",
       "      <td>Lvl</td>\n",
       "      <td>AllPub</td>\n",
       "      <td>...</td>\n",
       "      <td>0</td>\n",
       "      <td>NA</td>\n",
       "      <td>NA</td>\n",
       "      <td>NA</td>\n",
       "      <td>0</td>\n",
       "      <td>2</td>\n",
       "      <td>2008</td>\n",
       "      <td>WD</td>\n",
       "      <td>Normal</td>\n",
       "      <td>208500</td>\n",
       "    </tr>\n",
       "    <tr>\n",
       "      <th>1</th>\n",
       "      <td>2</td>\n",
       "      <td>20</td>\n",
       "      <td>RL</td>\n",
       "      <td>80.0</td>\n",
       "      <td>9600</td>\n",
       "      <td>Pave</td>\n",
       "      <td>NA</td>\n",
       "      <td>Reg</td>\n",
       "      <td>Lvl</td>\n",
       "      <td>AllPub</td>\n",
       "      <td>...</td>\n",
       "      <td>0</td>\n",
       "      <td>NA</td>\n",
       "      <td>NA</td>\n",
       "      <td>NA</td>\n",
       "      <td>0</td>\n",
       "      <td>5</td>\n",
       "      <td>2007</td>\n",
       "      <td>WD</td>\n",
       "      <td>Normal</td>\n",
       "      <td>181500</td>\n",
       "    </tr>\n",
       "    <tr>\n",
       "      <th>2</th>\n",
       "      <td>3</td>\n",
       "      <td>60</td>\n",
       "      <td>RL</td>\n",
       "      <td>68.0</td>\n",
       "      <td>11250</td>\n",
       "      <td>Pave</td>\n",
       "      <td>NA</td>\n",
       "      <td>IR1</td>\n",
       "      <td>Lvl</td>\n",
       "      <td>AllPub</td>\n",
       "      <td>...</td>\n",
       "      <td>0</td>\n",
       "      <td>NA</td>\n",
       "      <td>NA</td>\n",
       "      <td>NA</td>\n",
       "      <td>0</td>\n",
       "      <td>9</td>\n",
       "      <td>2008</td>\n",
       "      <td>WD</td>\n",
       "      <td>Normal</td>\n",
       "      <td>223500</td>\n",
       "    </tr>\n",
       "    <tr>\n",
       "      <th>3</th>\n",
       "      <td>4</td>\n",
       "      <td>70</td>\n",
       "      <td>RL</td>\n",
       "      <td>60.0</td>\n",
       "      <td>9550</td>\n",
       "      <td>Pave</td>\n",
       "      <td>NA</td>\n",
       "      <td>IR1</td>\n",
       "      <td>Lvl</td>\n",
       "      <td>AllPub</td>\n",
       "      <td>...</td>\n",
       "      <td>0</td>\n",
       "      <td>NA</td>\n",
       "      <td>NA</td>\n",
       "      <td>NA</td>\n",
       "      <td>0</td>\n",
       "      <td>2</td>\n",
       "      <td>2006</td>\n",
       "      <td>WD</td>\n",
       "      <td>Abnorml</td>\n",
       "      <td>140000</td>\n",
       "    </tr>\n",
       "    <tr>\n",
       "      <th>4</th>\n",
       "      <td>5</td>\n",
       "      <td>60</td>\n",
       "      <td>RL</td>\n",
       "      <td>84.0</td>\n",
       "      <td>14260</td>\n",
       "      <td>Pave</td>\n",
       "      <td>NA</td>\n",
       "      <td>IR1</td>\n",
       "      <td>Lvl</td>\n",
       "      <td>AllPub</td>\n",
       "      <td>...</td>\n",
       "      <td>0</td>\n",
       "      <td>NA</td>\n",
       "      <td>NA</td>\n",
       "      <td>NA</td>\n",
       "      <td>0</td>\n",
       "      <td>12</td>\n",
       "      <td>2008</td>\n",
       "      <td>WD</td>\n",
       "      <td>Normal</td>\n",
       "      <td>250000</td>\n",
       "    </tr>\n",
       "  </tbody>\n",
       "</table>\n",
       "<p>5 rows × 81 columns</p>\n",
       "</div>"
      ],
      "text/plain": [
       "   Id  MSSubClass MSZoning  LotFrontage  LotArea Street Alley LotShape  \\\n",
       "0   1          60       RL         65.0     8450   Pave    NA      Reg   \n",
       "1   2          20       RL         80.0     9600   Pave    NA      Reg   \n",
       "2   3          60       RL         68.0    11250   Pave    NA      IR1   \n",
       "3   4          70       RL         60.0     9550   Pave    NA      IR1   \n",
       "4   5          60       RL         84.0    14260   Pave    NA      IR1   \n",
       "\n",
       "  LandContour Utilities    ...     PoolArea PoolQC Fence MiscFeature MiscVal  \\\n",
       "0         Lvl    AllPub    ...            0     NA    NA          NA       0   \n",
       "1         Lvl    AllPub    ...            0     NA    NA          NA       0   \n",
       "2         Lvl    AllPub    ...            0     NA    NA          NA       0   \n",
       "3         Lvl    AllPub    ...            0     NA    NA          NA       0   \n",
       "4         Lvl    AllPub    ...            0     NA    NA          NA       0   \n",
       "\n",
       "  MoSold YrSold  SaleType  SaleCondition  SalePrice  \n",
       "0      2   2008        WD         Normal     208500  \n",
       "1      5   2007        WD         Normal     181500  \n",
       "2      9   2008        WD         Normal     223500  \n",
       "3      2   2006        WD        Abnorml     140000  \n",
       "4     12   2008        WD         Normal     250000  \n",
       "\n",
       "[5 rows x 81 columns]"
      ]
     },
     "execution_count": 17,
     "metadata": {},
     "output_type": "execute_result"
    }
   ],
   "source": [
    "#LotFrontage\n",
    "train[~train.LotFrontage.isnull()].head()"
   ]
  },
  {
   "cell_type": "code",
   "execution_count": 18,
   "metadata": {},
   "outputs": [],
   "source": [
    "train['LotFrontage'].fillna(train['LotFrontage'].median(),inplace=True)\n",
    "#用中位数填充"
   ]
  },
  {
   "cell_type": "code",
   "execution_count": 19,
   "metadata": {},
   "outputs": [
    {
     "data": {
      "text/html": [
       "<div>\n",
       "<style scoped>\n",
       "    .dataframe tbody tr th:only-of-type {\n",
       "        vertical-align: middle;\n",
       "    }\n",
       "\n",
       "    .dataframe tbody tr th {\n",
       "        vertical-align: top;\n",
       "    }\n",
       "\n",
       "    .dataframe thead th {\n",
       "        text-align: right;\n",
       "    }\n",
       "</style>\n",
       "<table border=\"1\" class=\"dataframe\">\n",
       "  <thead>\n",
       "    <tr style=\"text-align: right;\">\n",
       "      <th></th>\n",
       "      <th>Id</th>\n",
       "      <th>MSSubClass</th>\n",
       "      <th>MSZoning</th>\n",
       "      <th>LotFrontage</th>\n",
       "      <th>LotArea</th>\n",
       "      <th>Street</th>\n",
       "      <th>Alley</th>\n",
       "      <th>LotShape</th>\n",
       "      <th>LandContour</th>\n",
       "      <th>Utilities</th>\n",
       "      <th>...</th>\n",
       "      <th>PoolArea</th>\n",
       "      <th>PoolQC</th>\n",
       "      <th>Fence</th>\n",
       "      <th>MiscFeature</th>\n",
       "      <th>MiscVal</th>\n",
       "      <th>MoSold</th>\n",
       "      <th>YrSold</th>\n",
       "      <th>SaleType</th>\n",
       "      <th>SaleCondition</th>\n",
       "      <th>SalePrice</th>\n",
       "    </tr>\n",
       "  </thead>\n",
       "  <tbody>\n",
       "  </tbody>\n",
       "</table>\n",
       "<p>0 rows × 81 columns</p>\n",
       "</div>"
      ],
      "text/plain": [
       "Empty DataFrame\n",
       "Columns: [Id, MSSubClass, MSZoning, LotFrontage, LotArea, Street, Alley, LotShape, LandContour, Utilities, LotConfig, LandSlope, Neighborhood, Condition1, Condition2, BldgType, HouseStyle, OverallQual, OverallCond, YearBuilt, YearRemodAdd, RoofStyle, RoofMatl, Exterior1st, Exterior2nd, MasVnrType, MasVnrArea, ExterQual, ExterCond, Foundation, BsmtQual, BsmtCond, BsmtExposure, BsmtFinType1, BsmtFinSF1, BsmtFinType2, BsmtFinSF2, BsmtUnfSF, TotalBsmtSF, Heating, HeatingQC, CentralAir, Electrical, 1stFlrSF, 2ndFlrSF, LowQualFinSF, GrLivArea, BsmtFullBath, BsmtHalfBath, FullBath, HalfBath, BedroomAbvGr, KitchenAbvGr, KitchenQual, TotRmsAbvGrd, Functional, Fireplaces, FireplaceQu, GarageType, GarageYrBlt, GarageFinish, GarageCars, GarageArea, GarageQual, GarageCond, PavedDrive, WoodDeckSF, OpenPorchSF, EnclosedPorch, 3SsnPorch, ScreenPorch, PoolArea, PoolQC, Fence, MiscFeature, MiscVal, MoSold, YrSold, SaleType, SaleCondition, SalePrice]\n",
       "Index: []\n",
       "\n",
       "[0 rows x 81 columns]"
      ]
     },
     "execution_count": 19,
     "metadata": {},
     "output_type": "execute_result"
    }
   ],
   "source": [
    "train[train.LotFrontage.isnull()].head()"
   ]
  },
  {
   "cell_type": "code",
   "execution_count": 20,
   "metadata": {},
   "outputs": [
    {
     "ename": "AttributeError",
     "evalue": "'DataFrame' object has no attribute 'value_counts'",
     "output_type": "error",
     "traceback": [
      "\u001b[0;31m---------------------------------------------------------------------------\u001b[0m",
      "\u001b[0;31mAttributeError\u001b[0m                            Traceback (most recent call last)",
      "\u001b[0;32m<ipython-input-20-0b714a390ae0>\u001b[0m in \u001b[0;36m<module>\u001b[0;34m()\u001b[0m\n\u001b[1;32m      1\u001b[0m \u001b[0;31m# 测试集填充\u001b[0m\u001b[0;34m\u001b[0m\u001b[0;34m\u001b[0m\u001b[0m\n\u001b[0;32m----> 2\u001b[0;31m \u001b[0mshow_categorical\u001b[0m\u001b[0;34m(\u001b[0m\u001b[0mtest\u001b[0m\u001b[0;34m,\u001b[0m \u001b[0mmissingColsTe\u001b[0m\u001b[0;34m)\u001b[0m\u001b[0;34m\u001b[0m\u001b[0m\n\u001b[0m",
      "\u001b[0;32m<ipython-input-14-0d10f15e84e6>\u001b[0m in \u001b[0;36mshow_categorical\u001b[0;34m(df, cols)\u001b[0m\n\u001b[1;32m      1\u001b[0m \u001b[0;32mdef\u001b[0m \u001b[0mshow_categorical\u001b[0m\u001b[0;34m(\u001b[0m\u001b[0mdf\u001b[0m\u001b[0;34m,\u001b[0m \u001b[0mcols\u001b[0m\u001b[0;34m)\u001b[0m\u001b[0;34m:\u001b[0m\u001b[0;34m\u001b[0m\u001b[0m\n\u001b[0;32m----> 2\u001b[0;31m     \u001b[0mprint\u001b[0m\u001b[0;34m(\u001b[0m\u001b[0mdf\u001b[0m\u001b[0;34m[\u001b[0m\u001b[0mcols\u001b[0m\u001b[0;34m]\u001b[0m\u001b[0;34m.\u001b[0m\u001b[0mvalue_counts\u001b[0m\u001b[0;34m(\u001b[0m\u001b[0;34m)\u001b[0m\u001b[0;34m)\u001b[0m\u001b[0;34m\u001b[0m\u001b[0m\n\u001b[0m",
      "\u001b[0;32m~/handson-ml-env/lib/python3.6/site-packages/pandas/core/generic.py\u001b[0m in \u001b[0;36m__getattr__\u001b[0;34m(self, name)\u001b[0m\n\u001b[1;32m   3612\u001b[0m             \u001b[0;32mif\u001b[0m \u001b[0mname\u001b[0m \u001b[0;32min\u001b[0m \u001b[0mself\u001b[0m\u001b[0;34m.\u001b[0m\u001b[0m_info_axis\u001b[0m\u001b[0;34m:\u001b[0m\u001b[0;34m\u001b[0m\u001b[0m\n\u001b[1;32m   3613\u001b[0m                 \u001b[0;32mreturn\u001b[0m \u001b[0mself\u001b[0m\u001b[0;34m[\u001b[0m\u001b[0mname\u001b[0m\u001b[0;34m]\u001b[0m\u001b[0;34m\u001b[0m\u001b[0m\n\u001b[0;32m-> 3614\u001b[0;31m             \u001b[0;32mreturn\u001b[0m \u001b[0mobject\u001b[0m\u001b[0;34m.\u001b[0m\u001b[0m__getattribute__\u001b[0m\u001b[0;34m(\u001b[0m\u001b[0mself\u001b[0m\u001b[0;34m,\u001b[0m \u001b[0mname\u001b[0m\u001b[0;34m)\u001b[0m\u001b[0;34m\u001b[0m\u001b[0m\n\u001b[0m\u001b[1;32m   3615\u001b[0m \u001b[0;34m\u001b[0m\u001b[0m\n\u001b[1;32m   3616\u001b[0m     \u001b[0;32mdef\u001b[0m \u001b[0m__setattr__\u001b[0m\u001b[0;34m(\u001b[0m\u001b[0mself\u001b[0m\u001b[0;34m,\u001b[0m \u001b[0mname\u001b[0m\u001b[0;34m,\u001b[0m \u001b[0mvalue\u001b[0m\u001b[0;34m)\u001b[0m\u001b[0;34m:\u001b[0m\u001b[0;34m\u001b[0m\u001b[0m\n",
      "\u001b[0;31mAttributeError\u001b[0m: 'DataFrame' object has no attribute 'value_counts'"
     ]
    }
   ],
   "source": [
    "# 测试集填充\n",
    "show_categorical(test, missingColsTe)"
   ]
  },
  {
   "cell_type": "markdown",
   "metadata": {},
   "source": [
    "**value_counts适用于离散型变量的值分布统计**"
   ]
  },
  {
   "cell_type": "code",
   "execution_count": 21,
   "metadata": {},
   "outputs": [
    {
     "name": "stdout",
     "output_type": "stream",
     "text": [
      "33\n",
      "['MSZoning', 'LotFrontage', 'Alley', 'Utilities', 'Exterior1st', 'Exterior2nd', 'MasVnrType', 'MasVnrArea', 'BsmtQual', 'BsmtCond', 'BsmtExposure', 'BsmtFinType1', 'BsmtFinSF1', 'BsmtFinType2', 'BsmtFinSF2', 'BsmtUnfSF', 'TotalBsmtSF', 'BsmtFullBath', 'BsmtHalfBath', 'KitchenQual', 'Functional', 'FireplaceQu', 'GarageType', 'GarageYrBlt', 'GarageFinish', 'GarageCars', 'GarageArea', 'GarageQual', 'GarageCond', 'PoolQC', 'Fence', 'MiscFeature', 'SaleType']\n"
     ]
    }
   ],
   "source": [
    "print(len(missingColsTe))\n",
    "print(missingColsTe)"
   ]
  },
  {
   "cell_type": "code",
   "execution_count": 22,
   "metadata": {},
   "outputs": [],
   "source": [
    "#使用None填充：string类型\n",
    "cols = ['Alley','MasVnrType','BsmtQual','BsmtCond','BsmtExposure','BsmtFinType1','BsmtFinType2','Electrical',\\\n",
    "       'FireplaceQu','GarageType','GarageFinish','GarageQual','GarageCond','PoolQC','Fence','MiscFeature']\n",
    "colsZero = ['BsmtFinSF1','BsmtFinSF2','BsmtUnfSF','TotalBsmtSF','BsmtFullBath',\\\n",
    "            'BsmtHalfBath','GarageYrBlt','GarageCars','GarageArea']\n",
    "# 众数 MSZoning Utilities Exterior1st Exterior2nd KitchenQual Functional SaleType\n",
    "colsMode = ['MSZoning','Utilities','Exterior1st','Exterior2nd','KitchenQual','Functional','SaleType']\n",
    "# 中位数 'LotFrontage' MasVnrArea\n",
    "colsMedian = ['LotFrontage','MasVnrArea']\n",
    "for col in cols:\n",
    "    test[col].fillna('NA',inplace=True)\n",
    "\n",
    "for col in colsZero:\n",
    "    test[col].fillna(0,inplace=True)\n",
    "\n",
    "for col in colsMode:\n",
    "    test[col].fillna(test[col].mode()[0],inplace=True)\n",
    "    \n",
    "for col in colsMedian:\n",
    "    test[col].fillna(test[col].median(),inplace=True)\n"
   ]
  },
  {
   "cell_type": "code",
   "execution_count": 23,
   "metadata": {},
   "outputs": [
    {
     "data": {
      "text/plain": [
       "Series([], dtype: int64)"
      ]
     },
     "execution_count": 23,
     "metadata": {},
     "output_type": "execute_result"
    }
   ],
   "source": [
    "aa = test.isnull().sum()\n",
    "aa[aa>0].sort_values(ascending=False)"
   ]
  },
  {
   "cell_type": "markdown",
   "metadata": {},
   "source": [
    "发现用众数mode填充失败！为什么？\n",
    "Series 众数返回是一个Series\n",
    "添加一个下标就行了\n",
    "\n"
   ]
  },
  {
   "cell_type": "markdown",
   "metadata": {},
   "source": [
    "数据填充完毕；\n",
    "\n",
    "特征划分，类别型、数值型\n",
    "\n",
    "分别进行处理"
   ]
  },
  {
   "cell_type": "code",
   "execution_count": 24,
   "metadata": {},
   "outputs": [],
   "source": [
    "Ids = test['Id']\n",
    "test = test.drop('Id', axis=1)\n",
    "\n",
    "targets = train['SalePrice']\n",
    "train = train.drop(['Id','SalePrice'],axis=1)"
   ]
  },
  {
   "cell_type": "code",
   "execution_count": 25,
   "metadata": {},
   "outputs": [
    {
     "name": "stdout",
     "output_type": "stream",
     "text": [
      "(1460, 79)\n",
      "(1459, 79)\n"
     ]
    }
   ],
   "source": [
    "print(train.shape)\n",
    "print(test.shape)"
   ]
  },
  {
   "cell_type": "code",
   "execution_count": 26,
   "metadata": {},
   "outputs": [],
   "source": [
    "#将年份等相关特征从int64 转变成 str类型\n",
    "def chg(df, cols):\n",
    "    for col in cols:\n",
    "        df[col] = df[col].astype('str')\n",
    "\n",
    "cols = ['YearBuilt','YearRemodAdd','YrSold','MoSold','MSSubClass','GarageYrBlt']\n",
    "\n",
    "chg(train,cols)\n",
    "chg(test,cols)"
   ]
  },
  {
   "cell_type": "code",
   "execution_count": 27,
   "metadata": {},
   "outputs": [],
   "source": [
    "cateFeats = ['ExterQual', 'ExterCond','HeatingQC', 'KitchenQual', 'FireplaceQu',\\\n",
    "             'GarageQual', 'GarageCond','BsmtQual','BsmtCond','BsmtFinType1',\\\n",
    "             'BsmtFinType2','BsmtExposure','PoolQC','GarageType','GarageFinish',\\\n",
    "             'Fence','Functional','MiscFeature']\n",
    "\n",
    "oneHotFeats = ['MSSubClass', 'MSZoning', 'Street', 'Alley', 'LotShape', 'LandContour',\\\n",
    "               'Utilities', 'LotConfig', 'LandSlope', 'Neighborhood', 'Condition1',\\\n",
    "               'Condition2', 'BldgType', 'HouseStyle', 'YearBuilt', 'YearRemodAdd',\\\n",
    "               'RoofStyle', 'RoofMatl', 'Exterior1st', 'Exterior2nd', 'MasVnrType',\\\n",
    "               'Foundation', 'Heating', 'CentralAir', 'Electrical', 'PavedDrive',\\\n",
    "               'MoSold', 'YrSold', 'SaleType', 'SaleCondition','GarageYrBlt']\n",
    "numFeats = train.select_dtypes(include=[np.int64,np.float64]).columns"
   ]
  },
  {
   "cell_type": "code",
   "execution_count": 28,
   "metadata": {},
   "outputs": [
    {
     "name": "stdout",
     "output_type": "stream",
     "text": [
      "79\n"
     ]
    }
   ],
   "source": [
    "print(len(cateFeats)+len(oneHotFeats)+len(numFeats))"
   ]
  },
  {
   "cell_type": "code",
   "execution_count": 29,
   "metadata": {},
   "outputs": [
    {
     "data": {
      "text/plain": [
       "(1460, 79)"
      ]
     },
     "execution_count": 29,
     "metadata": {},
     "output_type": "execute_result"
    }
   ],
   "source": [
    "train.shape"
   ]
  },
  {
   "cell_type": "code",
   "execution_count": 30,
   "metadata": {},
   "outputs": [
    {
     "data": {
      "text/plain": [
       "Index(['LotFrontage', 'LotArea', 'OverallQual', 'OverallCond', 'MasVnrArea',\n",
       "       'BsmtFinSF1', 'BsmtFinSF2', 'BsmtUnfSF', 'TotalBsmtSF', '1stFlrSF',\n",
       "       '2ndFlrSF', 'LowQualFinSF', 'GrLivArea', 'BsmtFullBath', 'BsmtHalfBath',\n",
       "       'FullBath', 'HalfBath', 'BedroomAbvGr', 'KitchenAbvGr', 'TotRmsAbvGrd',\n",
       "       'Fireplaces', 'GarageCars', 'GarageArea', 'WoodDeckSF', 'OpenPorchSF',\n",
       "       'EnclosedPorch', '3SsnPorch', 'ScreenPorch', 'PoolArea', 'MiscVal'],\n",
       "      dtype='object')"
      ]
     },
     "execution_count": 30,
     "metadata": {},
     "output_type": "execute_result"
    }
   ],
   "source": [
    "numFeats"
   ]
  },
  {
   "cell_type": "markdown",
   "metadata": {},
   "source": [
    "特征数量相等。"
   ]
  },
  {
   "cell_type": "markdown",
   "metadata": {},
   "source": [
    "**数据集特征字段依据类型划分完成，之后根据特征类型采用不用的处理方法完成数据处理，处理之后，整合形成新的数据集；最后进行模型训练。**"
   ]
  },
  {
   "cell_type": "markdown",
   "metadata": {},
   "source": [
    "### 类别编码\n",
    "\n",
    "有顺序关系的特征编码"
   ]
  },
  {
   "cell_type": "code",
   "execution_count": 31,
   "metadata": {},
   "outputs": [
    {
     "data": {
      "text/html": [
       "<div>\n",
       "<style scoped>\n",
       "    .dataframe tbody tr th:only-of-type {\n",
       "        vertical-align: middle;\n",
       "    }\n",
       "\n",
       "    .dataframe tbody tr th {\n",
       "        vertical-align: top;\n",
       "    }\n",
       "\n",
       "    .dataframe thead th {\n",
       "        text-align: right;\n",
       "    }\n",
       "</style>\n",
       "<table border=\"1\" class=\"dataframe\">\n",
       "  <thead>\n",
       "    <tr style=\"text-align: right;\">\n",
       "      <th></th>\n",
       "      <th>ExterQual</th>\n",
       "      <th>ExterCond</th>\n",
       "      <th>HeatingQC</th>\n",
       "      <th>KitchenQual</th>\n",
       "      <th>FireplaceQu</th>\n",
       "      <th>GarageQual</th>\n",
       "      <th>GarageCond</th>\n",
       "      <th>BsmtQual</th>\n",
       "      <th>BsmtCond</th>\n",
       "      <th>BsmtFinType1</th>\n",
       "      <th>BsmtFinType2</th>\n",
       "      <th>BsmtExposure</th>\n",
       "      <th>PoolQC</th>\n",
       "      <th>GarageType</th>\n",
       "      <th>GarageFinish</th>\n",
       "      <th>Fence</th>\n",
       "      <th>Functional</th>\n",
       "      <th>MiscFeature</th>\n",
       "    </tr>\n",
       "  </thead>\n",
       "  <tbody>\n",
       "    <tr>\n",
       "      <th>0</th>\n",
       "      <td>Gd</td>\n",
       "      <td>TA</td>\n",
       "      <td>Ex</td>\n",
       "      <td>Gd</td>\n",
       "      <td>NA</td>\n",
       "      <td>TA</td>\n",
       "      <td>TA</td>\n",
       "      <td>Gd</td>\n",
       "      <td>TA</td>\n",
       "      <td>GLQ</td>\n",
       "      <td>Unf</td>\n",
       "      <td>No</td>\n",
       "      <td>NA</td>\n",
       "      <td>Attchd</td>\n",
       "      <td>RFn</td>\n",
       "      <td>NA</td>\n",
       "      <td>Typ</td>\n",
       "      <td>NA</td>\n",
       "    </tr>\n",
       "    <tr>\n",
       "      <th>1</th>\n",
       "      <td>TA</td>\n",
       "      <td>TA</td>\n",
       "      <td>Ex</td>\n",
       "      <td>TA</td>\n",
       "      <td>TA</td>\n",
       "      <td>TA</td>\n",
       "      <td>TA</td>\n",
       "      <td>Gd</td>\n",
       "      <td>TA</td>\n",
       "      <td>ALQ</td>\n",
       "      <td>Unf</td>\n",
       "      <td>Gd</td>\n",
       "      <td>NA</td>\n",
       "      <td>Attchd</td>\n",
       "      <td>RFn</td>\n",
       "      <td>NA</td>\n",
       "      <td>Typ</td>\n",
       "      <td>NA</td>\n",
       "    </tr>\n",
       "    <tr>\n",
       "      <th>2</th>\n",
       "      <td>Gd</td>\n",
       "      <td>TA</td>\n",
       "      <td>Ex</td>\n",
       "      <td>Gd</td>\n",
       "      <td>TA</td>\n",
       "      <td>TA</td>\n",
       "      <td>TA</td>\n",
       "      <td>Gd</td>\n",
       "      <td>TA</td>\n",
       "      <td>GLQ</td>\n",
       "      <td>Unf</td>\n",
       "      <td>Mn</td>\n",
       "      <td>NA</td>\n",
       "      <td>Attchd</td>\n",
       "      <td>RFn</td>\n",
       "      <td>NA</td>\n",
       "      <td>Typ</td>\n",
       "      <td>NA</td>\n",
       "    </tr>\n",
       "    <tr>\n",
       "      <th>3</th>\n",
       "      <td>TA</td>\n",
       "      <td>TA</td>\n",
       "      <td>Gd</td>\n",
       "      <td>Gd</td>\n",
       "      <td>Gd</td>\n",
       "      <td>TA</td>\n",
       "      <td>TA</td>\n",
       "      <td>TA</td>\n",
       "      <td>Gd</td>\n",
       "      <td>ALQ</td>\n",
       "      <td>Unf</td>\n",
       "      <td>No</td>\n",
       "      <td>NA</td>\n",
       "      <td>Detchd</td>\n",
       "      <td>Unf</td>\n",
       "      <td>NA</td>\n",
       "      <td>Typ</td>\n",
       "      <td>NA</td>\n",
       "    </tr>\n",
       "    <tr>\n",
       "      <th>4</th>\n",
       "      <td>Gd</td>\n",
       "      <td>TA</td>\n",
       "      <td>Ex</td>\n",
       "      <td>Gd</td>\n",
       "      <td>TA</td>\n",
       "      <td>TA</td>\n",
       "      <td>TA</td>\n",
       "      <td>Gd</td>\n",
       "      <td>TA</td>\n",
       "      <td>GLQ</td>\n",
       "      <td>Unf</td>\n",
       "      <td>Av</td>\n",
       "      <td>NA</td>\n",
       "      <td>Attchd</td>\n",
       "      <td>RFn</td>\n",
       "      <td>NA</td>\n",
       "      <td>Typ</td>\n",
       "      <td>NA</td>\n",
       "    </tr>\n",
       "  </tbody>\n",
       "</table>\n",
       "</div>"
      ],
      "text/plain": [
       "  ExterQual ExterCond HeatingQC KitchenQual FireplaceQu GarageQual GarageCond  \\\n",
       "0        Gd        TA        Ex          Gd          NA         TA         TA   \n",
       "1        TA        TA        Ex          TA          TA         TA         TA   \n",
       "2        Gd        TA        Ex          Gd          TA         TA         TA   \n",
       "3        TA        TA        Gd          Gd          Gd         TA         TA   \n",
       "4        Gd        TA        Ex          Gd          TA         TA         TA   \n",
       "\n",
       "  BsmtQual BsmtCond BsmtFinType1 BsmtFinType2 BsmtExposure PoolQC GarageType  \\\n",
       "0       Gd       TA          GLQ          Unf           No     NA     Attchd   \n",
       "1       Gd       TA          ALQ          Unf           Gd     NA     Attchd   \n",
       "2       Gd       TA          GLQ          Unf           Mn     NA     Attchd   \n",
       "3       TA       Gd          ALQ          Unf           No     NA     Detchd   \n",
       "4       Gd       TA          GLQ          Unf           Av     NA     Attchd   \n",
       "\n",
       "  GarageFinish Fence Functional MiscFeature  \n",
       "0          RFn    NA        Typ          NA  \n",
       "1          RFn    NA        Typ          NA  \n",
       "2          RFn    NA        Typ          NA  \n",
       "3          Unf    NA        Typ          NA  \n",
       "4          RFn    NA        Typ          NA  "
      ]
     },
     "execution_count": 31,
     "metadata": {},
     "output_type": "execute_result"
    }
   ],
   "source": [
    "cateTrain = train[cateFeats]\n",
    "cateTest = test[cateFeats]\n",
    "cateTrain.head()"
   ]
  },
  {
   "cell_type": "markdown",
   "metadata": {},
   "source": [
    "对类别数据one-hot编码"
   ]
  },
  {
   "cell_type": "code",
   "execution_count": 32,
   "metadata": {},
   "outputs": [],
   "source": [
    "qual5toCat = {'Ex':5,'Gd':4,'TA':3,'Fa':2,'Po':1,'NA':0} # ExterQual ExterCond HeatingQC KitchenQual\n",
    "# 6 FireplaceQu  GarageQual GarageCond\n",
    "qual6toCatBsmt = {'NA':1,'Po':2,'Fa':3,'TA':4,'Gd':5,'Ex':6} # BsmtQual BsmtCond\n",
    "qual7toCat = {'NA':1,'Unf':2,'LwQ':3,'Rec':4,'BLQ':5,'ALQ':6,'GLQ':7}# BsmtFinType1 BsmtFinType2\n",
    "\n",
    "mapBsmtExposure = {'NA':1,'No':2,'Mn':3,'Av':4,'Gd':5} # BsmtExposure\n",
    "mapPoolQC = {'Ex':5,'Gd':4,'TA':3,'Fa':2,'NA':1}#PoolQC\n",
    "mapFunctional = {'Sal':1,'Sev':2,'Maj2':3,'Maj1':4,'Mod':5,'Min2':6,'Min1':7,'Typ':8}\n",
    "mapGarageType = {'NA':1,'Detchd':2,'CarPort':3,'BuiltIn':4,'Basment':5,'Attchd':6,'2Types':7}\n",
    "mapGarageFinish = {'NA':1,'Unf':2,'RFn':3,'Fin':4}\n",
    "mapFence = {'NA':1,'MnWw':2,'GdWo':3,'MnPrv':4,'GdPrv':5}\n",
    "mapMiscFeature = {'NA':1,'TenC':2,'Shed':3,'Othr':4,'Gar2':5,'Elev':6}\n",
    "\n",
    "feats1 = ['ExterQual','ExterCond','HeatingQC','KitchenQual','FireplaceQu','GarageQual','GarageCond']\n",
    "feats2 = ['BsmtQual','BsmtCond']\n",
    "feats3 = ['BsmtFinType1','BsmtFinType2']\n",
    "def transformDF(df):\n",
    "    for feature in feats1:\n",
    "        df = df.replace({feature: qual5toCat})\n",
    "    for feature in feats2:\n",
    "        df = df.replace({feature: qual6toCatBsmt})\n",
    "    for feature in feats3:\n",
    "        df = df.replace({feature: qual7toCat})\n",
    "    df = df.replace({'BsmtExposure':mapBsmtExposure})\n",
    "    df = df.replace({'PoolQC':mapPoolQC})\n",
    "    df = df.replace({'Functional':mapFunctional})\n",
    "    df = df.replace({'GarageType':mapGarageType})\n",
    "    df = df.replace({'GarageFinish':mapGarageFinish})\n",
    "    df = df.replace({'Fence':mapFence})\n",
    "    df = df.replace({'MiscFeature':mapMiscFeature})\n",
    "    return df\n",
    "\n",
    "cateTrain = transformDF(cateTrain)\n",
    "cateTest = transformDF(cateTest)"
   ]
  },
  {
   "cell_type": "code",
   "execution_count": 33,
   "metadata": {},
   "outputs": [
    {
     "data": {
      "text/plain": [
       "Series([], dtype: int64)"
      ]
     },
     "execution_count": 33,
     "metadata": {},
     "output_type": "execute_result"
    }
   ],
   "source": [
    "aa = cateTrain.isnull().sum()\n",
    "aa[aa>0]"
   ]
  },
  {
   "cell_type": "code",
   "execution_count": 34,
   "metadata": {},
   "outputs": [
    {
     "data": {
      "text/plain": [
       "Series([], dtype: int64)"
      ]
     },
     "execution_count": 34,
     "metadata": {},
     "output_type": "execute_result"
    }
   ],
   "source": [
    "aa = cateTest.isnull().sum()\n",
    "aa[aa>0]"
   ]
  },
  {
   "cell_type": "code",
   "execution_count": 35,
   "metadata": {},
   "outputs": [
    {
     "data": {
      "text/html": [
       "<div>\n",
       "<style scoped>\n",
       "    .dataframe tbody tr th:only-of-type {\n",
       "        vertical-align: middle;\n",
       "    }\n",
       "\n",
       "    .dataframe tbody tr th {\n",
       "        vertical-align: top;\n",
       "    }\n",
       "\n",
       "    .dataframe thead th {\n",
       "        text-align: right;\n",
       "    }\n",
       "</style>\n",
       "<table border=\"1\" class=\"dataframe\">\n",
       "  <thead>\n",
       "    <tr style=\"text-align: right;\">\n",
       "      <th></th>\n",
       "      <th>ExterQual</th>\n",
       "      <th>ExterCond</th>\n",
       "      <th>HeatingQC</th>\n",
       "      <th>KitchenQual</th>\n",
       "      <th>FireplaceQu</th>\n",
       "      <th>GarageQual</th>\n",
       "      <th>GarageCond</th>\n",
       "      <th>BsmtQual</th>\n",
       "      <th>BsmtCond</th>\n",
       "      <th>BsmtFinType1</th>\n",
       "      <th>BsmtFinType2</th>\n",
       "      <th>BsmtExposure</th>\n",
       "      <th>PoolQC</th>\n",
       "      <th>GarageType</th>\n",
       "      <th>GarageFinish</th>\n",
       "      <th>Fence</th>\n",
       "      <th>Functional</th>\n",
       "      <th>MiscFeature</th>\n",
       "    </tr>\n",
       "  </thead>\n",
       "  <tbody>\n",
       "    <tr>\n",
       "      <th>0</th>\n",
       "      <td>4</td>\n",
       "      <td>3</td>\n",
       "      <td>5</td>\n",
       "      <td>4</td>\n",
       "      <td>0</td>\n",
       "      <td>3</td>\n",
       "      <td>3</td>\n",
       "      <td>5</td>\n",
       "      <td>4</td>\n",
       "      <td>7</td>\n",
       "      <td>2</td>\n",
       "      <td>2</td>\n",
       "      <td>1</td>\n",
       "      <td>6</td>\n",
       "      <td>3</td>\n",
       "      <td>1</td>\n",
       "      <td>8</td>\n",
       "      <td>1</td>\n",
       "    </tr>\n",
       "    <tr>\n",
       "      <th>1</th>\n",
       "      <td>3</td>\n",
       "      <td>3</td>\n",
       "      <td>5</td>\n",
       "      <td>3</td>\n",
       "      <td>3</td>\n",
       "      <td>3</td>\n",
       "      <td>3</td>\n",
       "      <td>5</td>\n",
       "      <td>4</td>\n",
       "      <td>6</td>\n",
       "      <td>2</td>\n",
       "      <td>5</td>\n",
       "      <td>1</td>\n",
       "      <td>6</td>\n",
       "      <td>3</td>\n",
       "      <td>1</td>\n",
       "      <td>8</td>\n",
       "      <td>1</td>\n",
       "    </tr>\n",
       "    <tr>\n",
       "      <th>2</th>\n",
       "      <td>4</td>\n",
       "      <td>3</td>\n",
       "      <td>5</td>\n",
       "      <td>4</td>\n",
       "      <td>3</td>\n",
       "      <td>3</td>\n",
       "      <td>3</td>\n",
       "      <td>5</td>\n",
       "      <td>4</td>\n",
       "      <td>7</td>\n",
       "      <td>2</td>\n",
       "      <td>3</td>\n",
       "      <td>1</td>\n",
       "      <td>6</td>\n",
       "      <td>3</td>\n",
       "      <td>1</td>\n",
       "      <td>8</td>\n",
       "      <td>1</td>\n",
       "    </tr>\n",
       "    <tr>\n",
       "      <th>3</th>\n",
       "      <td>3</td>\n",
       "      <td>3</td>\n",
       "      <td>4</td>\n",
       "      <td>4</td>\n",
       "      <td>4</td>\n",
       "      <td>3</td>\n",
       "      <td>3</td>\n",
       "      <td>4</td>\n",
       "      <td>5</td>\n",
       "      <td>6</td>\n",
       "      <td>2</td>\n",
       "      <td>2</td>\n",
       "      <td>1</td>\n",
       "      <td>2</td>\n",
       "      <td>2</td>\n",
       "      <td>1</td>\n",
       "      <td>8</td>\n",
       "      <td>1</td>\n",
       "    </tr>\n",
       "    <tr>\n",
       "      <th>4</th>\n",
       "      <td>4</td>\n",
       "      <td>3</td>\n",
       "      <td>5</td>\n",
       "      <td>4</td>\n",
       "      <td>3</td>\n",
       "      <td>3</td>\n",
       "      <td>3</td>\n",
       "      <td>5</td>\n",
       "      <td>4</td>\n",
       "      <td>7</td>\n",
       "      <td>2</td>\n",
       "      <td>4</td>\n",
       "      <td>1</td>\n",
       "      <td>6</td>\n",
       "      <td>3</td>\n",
       "      <td>1</td>\n",
       "      <td>8</td>\n",
       "      <td>1</td>\n",
       "    </tr>\n",
       "  </tbody>\n",
       "</table>\n",
       "</div>"
      ],
      "text/plain": [
       "   ExterQual  ExterCond  HeatingQC  KitchenQual  FireplaceQu  GarageQual  \\\n",
       "0          4          3          5            4            0           3   \n",
       "1          3          3          5            3            3           3   \n",
       "2          4          3          5            4            3           3   \n",
       "3          3          3          4            4            4           3   \n",
       "4          4          3          5            4            3           3   \n",
       "\n",
       "   GarageCond  BsmtQual  BsmtCond  BsmtFinType1  BsmtFinType2  BsmtExposure  \\\n",
       "0           3         5         4             7             2             2   \n",
       "1           3         5         4             6             2             5   \n",
       "2           3         5         4             7             2             3   \n",
       "3           3         4         5             6             2             2   \n",
       "4           3         5         4             7             2             4   \n",
       "\n",
       "   PoolQC  GarageType  GarageFinish  Fence  Functional  MiscFeature  \n",
       "0       1           6             3      1           8            1  \n",
       "1       1           6             3      1           8            1  \n",
       "2       1           6             3      1           8            1  \n",
       "3       1           2             2      1           8            1  \n",
       "4       1           6             3      1           8            1  "
      ]
     },
     "execution_count": 35,
     "metadata": {},
     "output_type": "execute_result"
    }
   ],
   "source": [
    "cateTrain.head()"
   ]
  },
  {
   "cell_type": "code",
   "execution_count": 36,
   "metadata": {},
   "outputs": [
    {
     "data": {
      "text/html": [
       "<div>\n",
       "<style scoped>\n",
       "    .dataframe tbody tr th:only-of-type {\n",
       "        vertical-align: middle;\n",
       "    }\n",
       "\n",
       "    .dataframe tbody tr th {\n",
       "        vertical-align: top;\n",
       "    }\n",
       "\n",
       "    .dataframe thead th {\n",
       "        text-align: right;\n",
       "    }\n",
       "</style>\n",
       "<table border=\"1\" class=\"dataframe\">\n",
       "  <thead>\n",
       "    <tr style=\"text-align: right;\">\n",
       "      <th></th>\n",
       "      <th>ExterQual</th>\n",
       "      <th>ExterCond</th>\n",
       "      <th>HeatingQC</th>\n",
       "      <th>KitchenQual</th>\n",
       "      <th>FireplaceQu</th>\n",
       "      <th>GarageQual</th>\n",
       "      <th>GarageCond</th>\n",
       "      <th>BsmtQual</th>\n",
       "      <th>BsmtCond</th>\n",
       "      <th>BsmtFinType1</th>\n",
       "      <th>BsmtFinType2</th>\n",
       "      <th>BsmtExposure</th>\n",
       "      <th>PoolQC</th>\n",
       "      <th>GarageType</th>\n",
       "      <th>GarageFinish</th>\n",
       "      <th>Fence</th>\n",
       "      <th>Functional</th>\n",
       "      <th>MiscFeature</th>\n",
       "    </tr>\n",
       "  </thead>\n",
       "  <tbody>\n",
       "    <tr>\n",
       "      <th>0</th>\n",
       "      <td>3</td>\n",
       "      <td>3</td>\n",
       "      <td>3</td>\n",
       "      <td>3</td>\n",
       "      <td>0</td>\n",
       "      <td>3</td>\n",
       "      <td>3</td>\n",
       "      <td>4</td>\n",
       "      <td>4</td>\n",
       "      <td>4</td>\n",
       "      <td>3</td>\n",
       "      <td>2</td>\n",
       "      <td>1</td>\n",
       "      <td>6</td>\n",
       "      <td>2</td>\n",
       "      <td>4</td>\n",
       "      <td>8</td>\n",
       "      <td>1</td>\n",
       "    </tr>\n",
       "    <tr>\n",
       "      <th>1</th>\n",
       "      <td>3</td>\n",
       "      <td>3</td>\n",
       "      <td>3</td>\n",
       "      <td>4</td>\n",
       "      <td>0</td>\n",
       "      <td>3</td>\n",
       "      <td>3</td>\n",
       "      <td>4</td>\n",
       "      <td>4</td>\n",
       "      <td>6</td>\n",
       "      <td>2</td>\n",
       "      <td>2</td>\n",
       "      <td>1</td>\n",
       "      <td>6</td>\n",
       "      <td>2</td>\n",
       "      <td>1</td>\n",
       "      <td>8</td>\n",
       "      <td>5</td>\n",
       "    </tr>\n",
       "    <tr>\n",
       "      <th>2</th>\n",
       "      <td>3</td>\n",
       "      <td>3</td>\n",
       "      <td>4</td>\n",
       "      <td>3</td>\n",
       "      <td>3</td>\n",
       "      <td>3</td>\n",
       "      <td>3</td>\n",
       "      <td>5</td>\n",
       "      <td>4</td>\n",
       "      <td>7</td>\n",
       "      <td>2</td>\n",
       "      <td>2</td>\n",
       "      <td>1</td>\n",
       "      <td>6</td>\n",
       "      <td>4</td>\n",
       "      <td>4</td>\n",
       "      <td>8</td>\n",
       "      <td>1</td>\n",
       "    </tr>\n",
       "    <tr>\n",
       "      <th>3</th>\n",
       "      <td>3</td>\n",
       "      <td>3</td>\n",
       "      <td>5</td>\n",
       "      <td>4</td>\n",
       "      <td>4</td>\n",
       "      <td>3</td>\n",
       "      <td>3</td>\n",
       "      <td>4</td>\n",
       "      <td>4</td>\n",
       "      <td>7</td>\n",
       "      <td>2</td>\n",
       "      <td>2</td>\n",
       "      <td>1</td>\n",
       "      <td>6</td>\n",
       "      <td>4</td>\n",
       "      <td>1</td>\n",
       "      <td>8</td>\n",
       "      <td>1</td>\n",
       "    </tr>\n",
       "    <tr>\n",
       "      <th>4</th>\n",
       "      <td>4</td>\n",
       "      <td>3</td>\n",
       "      <td>5</td>\n",
       "      <td>4</td>\n",
       "      <td>0</td>\n",
       "      <td>3</td>\n",
       "      <td>3</td>\n",
       "      <td>5</td>\n",
       "      <td>4</td>\n",
       "      <td>6</td>\n",
       "      <td>2</td>\n",
       "      <td>2</td>\n",
       "      <td>1</td>\n",
       "      <td>6</td>\n",
       "      <td>3</td>\n",
       "      <td>1</td>\n",
       "      <td>8</td>\n",
       "      <td>1</td>\n",
       "    </tr>\n",
       "  </tbody>\n",
       "</table>\n",
       "</div>"
      ],
      "text/plain": [
       "   ExterQual  ExterCond  HeatingQC  KitchenQual  FireplaceQu  GarageQual  \\\n",
       "0          3          3          3            3            0           3   \n",
       "1          3          3          3            4            0           3   \n",
       "2          3          3          4            3            3           3   \n",
       "3          3          3          5            4            4           3   \n",
       "4          4          3          5            4            0           3   \n",
       "\n",
       "   GarageCond  BsmtQual  BsmtCond  BsmtFinType1  BsmtFinType2  BsmtExposure  \\\n",
       "0           3         4         4             4             3             2   \n",
       "1           3         4         4             6             2             2   \n",
       "2           3         5         4             7             2             2   \n",
       "3           3         4         4             7             2             2   \n",
       "4           3         5         4             6             2             2   \n",
       "\n",
       "   PoolQC  GarageType  GarageFinish  Fence  Functional  MiscFeature  \n",
       "0       1           6             2      4           8            1  \n",
       "1       1           6             2      1           8            5  \n",
       "2       1           6             4      4           8            1  \n",
       "3       1           6             4      1           8            1  \n",
       "4       1           6             3      1           8            1  "
      ]
     },
     "execution_count": 36,
     "metadata": {},
     "output_type": "execute_result"
    }
   ],
   "source": [
    "cateTest.head()"
   ]
  },
  {
   "cell_type": "markdown",
   "metadata": {},
   "source": [
    "**次序类别特征处理完成**"
   ]
  },
  {
   "cell_type": "markdown",
   "metadata": {},
   "source": [
    "### 没有顺序关系的特征\n",
    "用one-hot encoder编码\n",
    "\n"
   ]
  },
  {
   "cell_type": "code",
   "execution_count": 37,
   "metadata": {},
   "outputs": [],
   "source": [
    "oneHotTrain = train[oneHotFeats]\n",
    "oneHotTest = test[oneHotFeats]"
   ]
  },
  {
   "cell_type": "code",
   "execution_count": 38,
   "metadata": {},
   "outputs": [
    {
     "data": {
      "text/plain": [
       "20     536\n",
       "60     299\n",
       "50     144\n",
       "120     87\n",
       "30      69\n",
       "160     63\n",
       "70      60\n",
       "80      58\n",
       "90      52\n",
       "190     30\n",
       "85      20\n",
       "75      16\n",
       "45      12\n",
       "180     10\n",
       "40       4\n",
       "Name: MSSubClass, dtype: int64"
      ]
     },
     "execution_count": 38,
     "metadata": {},
     "output_type": "execute_result"
    }
   ],
   "source": [
    "oneHotTrain.MSSubClass.value_counts()"
   ]
  },
  {
   "cell_type": "code",
   "execution_count": 39,
   "metadata": {},
   "outputs": [
    {
     "data": {
      "text/plain": [
       "20     543\n",
       "60     276\n",
       "50     143\n",
       "120     95\n",
       "30      70\n",
       "70      68\n",
       "160     65\n",
       "80      60\n",
       "90      57\n",
       "190     31\n",
       "85      28\n",
       "75       7\n",
       "180      7\n",
       "45       6\n",
       "40       2\n",
       "150      1\n",
       "Name: MSSubClass, dtype: int64"
      ]
     },
     "execution_count": 39,
     "metadata": {},
     "output_type": "execute_result"
    }
   ],
   "source": [
    "oneHotTest.MSSubClass.value_counts()"
   ]
  },
  {
   "cell_type": "code",
   "execution_count": 40,
   "metadata": {},
   "outputs": [
    {
     "name": "stdout",
     "output_type": "stream",
     "text": [
      "<class 'pandas.core.frame.DataFrame'>\n",
      "<class 'pandas.core.frame.DataFrame'>\n"
     ]
    }
   ],
   "source": [
    "print(type(oneHotTrain))\n",
    "print(type(oneHotTest))"
   ]
  },
  {
   "cell_type": "code",
   "execution_count": 41,
   "metadata": {},
   "outputs": [
    {
     "data": {
      "text/plain": [
       "AllPub    1459\n",
       "NoSeWa       1\n",
       "Name: Utilities, dtype: int64"
      ]
     },
     "execution_count": 41,
     "metadata": {},
     "output_type": "execute_result"
    }
   ],
   "source": [
    "oneHotTrain.Utilities.value_counts()"
   ]
  },
  {
   "cell_type": "code",
   "execution_count": 42,
   "metadata": {},
   "outputs": [
    {
     "data": {
      "text/plain": [
       "AllPub    1459\n",
       "Name: Utilities, dtype: int64"
      ]
     },
     "execution_count": 42,
     "metadata": {},
     "output_type": "execute_result"
    }
   ],
   "source": [
    "oneHotTest.Utilities.value_counts()"
   ]
  },
  {
   "cell_type": "markdown",
   "metadata": {},
   "source": [
    "**转换后数据长度不相同，主要是由于特征值的缺失；有的值在训练集特征中出现，在测试集中却没有出现，或者反之。**"
   ]
  },
  {
   "cell_type": "code",
   "execution_count": 43,
   "metadata": {},
   "outputs": [],
   "source": [
    "# #现将MSSubClass的数字转换成类别码A～Z\n",
    "# oneHotTrain = oneHotTrain.replace({'MSSubClass':{20: \"A\", 30: \"B\", 40: \"C\", 45: \"D\", 50: \"E\",\\\n",
    "#                                      60: \"F\", 70: \"G\", 75: \"H\", 80: \"I\", 85: \"J\",\\\n",
    "#                                      90: \"K\", 120: \"L\", 150: \"M\", 160: \"N\", 180: \"O\", 190: \"P\"}})\n",
    "\n",
    "# oneHotTest = oneHotTest.replace({'MSSubClass':{20: \"A\", 30: \"B\", 40: \"C\", 45: \"D\", 50: \"E\",\\\n",
    "#                                      60: \"F\", 70: \"G\", 75: \"H\", 80: \"I\", 85: \"J\",\\\n",
    "#                                      90: \"K\", 120: \"L\", 150: \"M\", 160: \"N\", 180: \"O\", 190: \"P\"}})"
   ]
  },
  {
   "cell_type": "code",
   "execution_count": 44,
   "metadata": {},
   "outputs": [],
   "source": [
    "# 对MSSubClass单独进行one-hot编码\n",
    "dummyMSSubClassTrain = oneHotTrain['MSSubClass']\n",
    "dummyMSSubClassTest = oneHotTest['MSSubClass']\n",
    "\n",
    "oneHotTrain = oneHotTrain.drop('MSSubClass',axis=1)\n",
    "oneHotTest = oneHotTest.drop('MSSubClass',axis=1)"
   ]
  },
  {
   "cell_type": "code",
   "execution_count": 45,
   "metadata": {},
   "outputs": [
    {
     "name": "stdout",
     "output_type": "stream",
     "text": [
      "(1460, 30)\n",
      "(1459, 30)\n"
     ]
    }
   ],
   "source": [
    "print(oneHotTrain.shape)\n",
    "print(oneHotTest.shape)"
   ]
  },
  {
   "cell_type": "code",
   "execution_count": 46,
   "metadata": {},
   "outputs": [],
   "source": [
    "dummyMSSubClassTrain = pd.get_dummies(dummyMSSubClassTrain,prefix='MSSubClass')"
   ]
  },
  {
   "cell_type": "code",
   "execution_count": 47,
   "metadata": {},
   "outputs": [
    {
     "data": {
      "text/html": [
       "<div>\n",
       "<style scoped>\n",
       "    .dataframe tbody tr th:only-of-type {\n",
       "        vertical-align: middle;\n",
       "    }\n",
       "\n",
       "    .dataframe tbody tr th {\n",
       "        vertical-align: top;\n",
       "    }\n",
       "\n",
       "    .dataframe thead th {\n",
       "        text-align: right;\n",
       "    }\n",
       "</style>\n",
       "<table border=\"1\" class=\"dataframe\">\n",
       "  <thead>\n",
       "    <tr style=\"text-align: right;\">\n",
       "      <th></th>\n",
       "      <th>MSSubClass_120</th>\n",
       "      <th>MSSubClass_160</th>\n",
       "      <th>MSSubClass_180</th>\n",
       "      <th>MSSubClass_190</th>\n",
       "      <th>MSSubClass_20</th>\n",
       "      <th>MSSubClass_30</th>\n",
       "      <th>MSSubClass_40</th>\n",
       "      <th>MSSubClass_45</th>\n",
       "      <th>MSSubClass_50</th>\n",
       "      <th>MSSubClass_60</th>\n",
       "      <th>MSSubClass_70</th>\n",
       "      <th>MSSubClass_75</th>\n",
       "      <th>MSSubClass_80</th>\n",
       "      <th>MSSubClass_85</th>\n",
       "      <th>MSSubClass_90</th>\n",
       "    </tr>\n",
       "  </thead>\n",
       "  <tbody>\n",
       "    <tr>\n",
       "      <th>0</th>\n",
       "      <td>0</td>\n",
       "      <td>0</td>\n",
       "      <td>0</td>\n",
       "      <td>0</td>\n",
       "      <td>0</td>\n",
       "      <td>0</td>\n",
       "      <td>0</td>\n",
       "      <td>0</td>\n",
       "      <td>0</td>\n",
       "      <td>1</td>\n",
       "      <td>0</td>\n",
       "      <td>0</td>\n",
       "      <td>0</td>\n",
       "      <td>0</td>\n",
       "      <td>0</td>\n",
       "    </tr>\n",
       "    <tr>\n",
       "      <th>1</th>\n",
       "      <td>0</td>\n",
       "      <td>0</td>\n",
       "      <td>0</td>\n",
       "      <td>0</td>\n",
       "      <td>1</td>\n",
       "      <td>0</td>\n",
       "      <td>0</td>\n",
       "      <td>0</td>\n",
       "      <td>0</td>\n",
       "      <td>0</td>\n",
       "      <td>0</td>\n",
       "      <td>0</td>\n",
       "      <td>0</td>\n",
       "      <td>0</td>\n",
       "      <td>0</td>\n",
       "    </tr>\n",
       "    <tr>\n",
       "      <th>2</th>\n",
       "      <td>0</td>\n",
       "      <td>0</td>\n",
       "      <td>0</td>\n",
       "      <td>0</td>\n",
       "      <td>0</td>\n",
       "      <td>0</td>\n",
       "      <td>0</td>\n",
       "      <td>0</td>\n",
       "      <td>0</td>\n",
       "      <td>1</td>\n",
       "      <td>0</td>\n",
       "      <td>0</td>\n",
       "      <td>0</td>\n",
       "      <td>0</td>\n",
       "      <td>0</td>\n",
       "    </tr>\n",
       "    <tr>\n",
       "      <th>3</th>\n",
       "      <td>0</td>\n",
       "      <td>0</td>\n",
       "      <td>0</td>\n",
       "      <td>0</td>\n",
       "      <td>0</td>\n",
       "      <td>0</td>\n",
       "      <td>0</td>\n",
       "      <td>0</td>\n",
       "      <td>0</td>\n",
       "      <td>0</td>\n",
       "      <td>1</td>\n",
       "      <td>0</td>\n",
       "      <td>0</td>\n",
       "      <td>0</td>\n",
       "      <td>0</td>\n",
       "    </tr>\n",
       "    <tr>\n",
       "      <th>4</th>\n",
       "      <td>0</td>\n",
       "      <td>0</td>\n",
       "      <td>0</td>\n",
       "      <td>0</td>\n",
       "      <td>0</td>\n",
       "      <td>0</td>\n",
       "      <td>0</td>\n",
       "      <td>0</td>\n",
       "      <td>0</td>\n",
       "      <td>1</td>\n",
       "      <td>0</td>\n",
       "      <td>0</td>\n",
       "      <td>0</td>\n",
       "      <td>0</td>\n",
       "      <td>0</td>\n",
       "    </tr>\n",
       "  </tbody>\n",
       "</table>\n",
       "</div>"
      ],
      "text/plain": [
       "   MSSubClass_120  MSSubClass_160  MSSubClass_180  MSSubClass_190  \\\n",
       "0               0               0               0               0   \n",
       "1               0               0               0               0   \n",
       "2               0               0               0               0   \n",
       "3               0               0               0               0   \n",
       "4               0               0               0               0   \n",
       "\n",
       "   MSSubClass_20  MSSubClass_30  MSSubClass_40  MSSubClass_45  MSSubClass_50  \\\n",
       "0              0              0              0              0              0   \n",
       "1              1              0              0              0              0   \n",
       "2              0              0              0              0              0   \n",
       "3              0              0              0              0              0   \n",
       "4              0              0              0              0              0   \n",
       "\n",
       "   MSSubClass_60  MSSubClass_70  MSSubClass_75  MSSubClass_80  MSSubClass_85  \\\n",
       "0              1              0              0              0              0   \n",
       "1              0              0              0              0              0   \n",
       "2              1              0              0              0              0   \n",
       "3              0              1              0              0              0   \n",
       "4              1              0              0              0              0   \n",
       "\n",
       "   MSSubClass_90  \n",
       "0              0  \n",
       "1              0  \n",
       "2              0  \n",
       "3              0  \n",
       "4              0  "
      ]
     },
     "execution_count": 47,
     "metadata": {},
     "output_type": "execute_result"
    }
   ],
   "source": [
    "dummyMSSubClassTrain.head()"
   ]
  },
  {
   "cell_type": "code",
   "execution_count": 48,
   "metadata": {},
   "outputs": [
    {
     "data": {
      "text/html": [
       "<div>\n",
       "<style scoped>\n",
       "    .dataframe tbody tr th:only-of-type {\n",
       "        vertical-align: middle;\n",
       "    }\n",
       "\n",
       "    .dataframe tbody tr th {\n",
       "        vertical-align: top;\n",
       "    }\n",
       "\n",
       "    .dataframe thead th {\n",
       "        text-align: right;\n",
       "    }\n",
       "</style>\n",
       "<table border=\"1\" class=\"dataframe\">\n",
       "  <thead>\n",
       "    <tr style=\"text-align: right;\">\n",
       "      <th></th>\n",
       "      <th>MSSubClass_120</th>\n",
       "      <th>MSSubClass_150</th>\n",
       "      <th>MSSubClass_160</th>\n",
       "      <th>MSSubClass_180</th>\n",
       "      <th>MSSubClass_190</th>\n",
       "      <th>MSSubClass_20</th>\n",
       "      <th>MSSubClass_30</th>\n",
       "      <th>MSSubClass_40</th>\n",
       "      <th>MSSubClass_45</th>\n",
       "      <th>MSSubClass_50</th>\n",
       "      <th>MSSubClass_60</th>\n",
       "      <th>MSSubClass_70</th>\n",
       "      <th>MSSubClass_75</th>\n",
       "      <th>MSSubClass_80</th>\n",
       "      <th>MSSubClass_85</th>\n",
       "      <th>MSSubClass_90</th>\n",
       "    </tr>\n",
       "  </thead>\n",
       "  <tbody>\n",
       "    <tr>\n",
       "      <th>0</th>\n",
       "      <td>0</td>\n",
       "      <td>0</td>\n",
       "      <td>0</td>\n",
       "      <td>0</td>\n",
       "      <td>0</td>\n",
       "      <td>1</td>\n",
       "      <td>0</td>\n",
       "      <td>0</td>\n",
       "      <td>0</td>\n",
       "      <td>0</td>\n",
       "      <td>0</td>\n",
       "      <td>0</td>\n",
       "      <td>0</td>\n",
       "      <td>0</td>\n",
       "      <td>0</td>\n",
       "      <td>0</td>\n",
       "    </tr>\n",
       "    <tr>\n",
       "      <th>1</th>\n",
       "      <td>0</td>\n",
       "      <td>0</td>\n",
       "      <td>0</td>\n",
       "      <td>0</td>\n",
       "      <td>0</td>\n",
       "      <td>1</td>\n",
       "      <td>0</td>\n",
       "      <td>0</td>\n",
       "      <td>0</td>\n",
       "      <td>0</td>\n",
       "      <td>0</td>\n",
       "      <td>0</td>\n",
       "      <td>0</td>\n",
       "      <td>0</td>\n",
       "      <td>0</td>\n",
       "      <td>0</td>\n",
       "    </tr>\n",
       "    <tr>\n",
       "      <th>2</th>\n",
       "      <td>0</td>\n",
       "      <td>0</td>\n",
       "      <td>0</td>\n",
       "      <td>0</td>\n",
       "      <td>0</td>\n",
       "      <td>0</td>\n",
       "      <td>0</td>\n",
       "      <td>0</td>\n",
       "      <td>0</td>\n",
       "      <td>0</td>\n",
       "      <td>1</td>\n",
       "      <td>0</td>\n",
       "      <td>0</td>\n",
       "      <td>0</td>\n",
       "      <td>0</td>\n",
       "      <td>0</td>\n",
       "    </tr>\n",
       "    <tr>\n",
       "      <th>3</th>\n",
       "      <td>0</td>\n",
       "      <td>0</td>\n",
       "      <td>0</td>\n",
       "      <td>0</td>\n",
       "      <td>0</td>\n",
       "      <td>0</td>\n",
       "      <td>0</td>\n",
       "      <td>0</td>\n",
       "      <td>0</td>\n",
       "      <td>0</td>\n",
       "      <td>1</td>\n",
       "      <td>0</td>\n",
       "      <td>0</td>\n",
       "      <td>0</td>\n",
       "      <td>0</td>\n",
       "      <td>0</td>\n",
       "    </tr>\n",
       "    <tr>\n",
       "      <th>4</th>\n",
       "      <td>1</td>\n",
       "      <td>0</td>\n",
       "      <td>0</td>\n",
       "      <td>0</td>\n",
       "      <td>0</td>\n",
       "      <td>0</td>\n",
       "      <td>0</td>\n",
       "      <td>0</td>\n",
       "      <td>0</td>\n",
       "      <td>0</td>\n",
       "      <td>0</td>\n",
       "      <td>0</td>\n",
       "      <td>0</td>\n",
       "      <td>0</td>\n",
       "      <td>0</td>\n",
       "      <td>0</td>\n",
       "    </tr>\n",
       "  </tbody>\n",
       "</table>\n",
       "</div>"
      ],
      "text/plain": [
       "   MSSubClass_120  MSSubClass_150  MSSubClass_160  MSSubClass_180  \\\n",
       "0               0               0               0               0   \n",
       "1               0               0               0               0   \n",
       "2               0               0               0               0   \n",
       "3               0               0               0               0   \n",
       "4               1               0               0               0   \n",
       "\n",
       "   MSSubClass_190  MSSubClass_20  MSSubClass_30  MSSubClass_40  MSSubClass_45  \\\n",
       "0               0              1              0              0              0   \n",
       "1               0              1              0              0              0   \n",
       "2               0              0              0              0              0   \n",
       "3               0              0              0              0              0   \n",
       "4               0              0              0              0              0   \n",
       "\n",
       "   MSSubClass_50  MSSubClass_60  MSSubClass_70  MSSubClass_75  MSSubClass_80  \\\n",
       "0              0              0              0              0              0   \n",
       "1              0              0              0              0              0   \n",
       "2              0              1              0              0              0   \n",
       "3              0              1              0              0              0   \n",
       "4              0              0              0              0              0   \n",
       "\n",
       "   MSSubClass_85  MSSubClass_90  \n",
       "0              0              0  \n",
       "1              0              0  \n",
       "2              0              0  \n",
       "3              0              0  \n",
       "4              0              0  "
      ]
     },
     "execution_count": 48,
     "metadata": {},
     "output_type": "execute_result"
    }
   ],
   "source": [
    "dummyMSSubClassTest = pd.get_dummies(dummyMSSubClassTest,prefix='MSSubClass')\n",
    "dummyMSSubClassTest.head()"
   ]
  },
  {
   "cell_type": "code",
   "execution_count": 49,
   "metadata": {},
   "outputs": [
    {
     "name": "stdout",
     "output_type": "stream",
     "text": [
      "(1460, 15)\n",
      "(1459, 16)\n"
     ]
    }
   ],
   "source": [
    "print(dummyMSSubClassTrain.shape)\n",
    "print(dummyMSSubClassTest.shape)"
   ]
  },
  {
   "cell_type": "code",
   "execution_count": 50,
   "metadata": {},
   "outputs": [
    {
     "data": {
      "text/plain": [
       "Index(['MSSubClass_120', 'MSSubClass_160', 'MSSubClass_180', 'MSSubClass_190',\n",
       "       'MSSubClass_20', 'MSSubClass_30', 'MSSubClass_40', 'MSSubClass_45',\n",
       "       'MSSubClass_50', 'MSSubClass_60', 'MSSubClass_70', 'MSSubClass_75',\n",
       "       'MSSubClass_80', 'MSSubClass_85', 'MSSubClass_90'],\n",
       "      dtype='object')"
      ]
     },
     "execution_count": 50,
     "metadata": {},
     "output_type": "execute_result"
    }
   ],
   "source": [
    "dummyMSSubClassTrain.columns"
   ]
  },
  {
   "cell_type": "code",
   "execution_count": 51,
   "metadata": {},
   "outputs": [
    {
     "data": {
      "text/plain": [
       "Index(['MSSubClass_120', 'MSSubClass_150', 'MSSubClass_160', 'MSSubClass_180',\n",
       "       'MSSubClass_190', 'MSSubClass_20', 'MSSubClass_30', 'MSSubClass_40',\n",
       "       'MSSubClass_45', 'MSSubClass_50', 'MSSubClass_60', 'MSSubClass_70',\n",
       "       'MSSubClass_75', 'MSSubClass_80', 'MSSubClass_85', 'MSSubClass_90'],\n",
       "      dtype='object')"
      ]
     },
     "execution_count": 51,
     "metadata": {},
     "output_type": "execute_result"
    }
   ],
   "source": [
    "dummyMSSubClassTest.columns"
   ]
  },
  {
   "cell_type": "code",
   "execution_count": 52,
   "metadata": {},
   "outputs": [],
   "source": [
    "#解决两个shape不相同的情况\n",
    "add150 = np.zeros((1460,1))\n",
    "pd150 = pd.DataFrame(add150,columns=['MSSubClass_150'])\n",
    "dummyMSSubClassTrain = pd.concat([dummyMSSubClassTrain, pd150],axis=1)"
   ]
  },
  {
   "cell_type": "code",
   "execution_count": 53,
   "metadata": {},
   "outputs": [
    {
     "data": {
      "text/plain": [
       "Index(['MSSubClass_120', 'MSSubClass_160', 'MSSubClass_180', 'MSSubClass_190',\n",
       "       'MSSubClass_20', 'MSSubClass_30', 'MSSubClass_40', 'MSSubClass_45',\n",
       "       'MSSubClass_50', 'MSSubClass_60', 'MSSubClass_70', 'MSSubClass_75',\n",
       "       'MSSubClass_80', 'MSSubClass_85', 'MSSubClass_90', 'MSSubClass_150'],\n",
       "      dtype='object')"
      ]
     },
     "execution_count": 53,
     "metadata": {},
     "output_type": "execute_result"
    }
   ],
   "source": [
    "dummyMSSubClassTrain.columns"
   ]
  },
  {
   "cell_type": "code",
   "execution_count": 54,
   "metadata": {},
   "outputs": [
    {
     "data": {
      "text/plain": [
       "Index(['MSSubClass_120', 'MSSubClass_150', 'MSSubClass_160', 'MSSubClass_180',\n",
       "       'MSSubClass_190', 'MSSubClass_20', 'MSSubClass_30', 'MSSubClass_40',\n",
       "       'MSSubClass_45', 'MSSubClass_50', 'MSSubClass_60', 'MSSubClass_70',\n",
       "       'MSSubClass_75', 'MSSubClass_80', 'MSSubClass_85', 'MSSubClass_90'],\n",
       "      dtype='object')"
      ]
     },
     "execution_count": 54,
     "metadata": {},
     "output_type": "execute_result"
    }
   ],
   "source": [
    "dummyMSSubClassTest.columns"
   ]
  },
  {
   "cell_type": "code",
   "execution_count": 55,
   "metadata": {},
   "outputs": [
    {
     "data": {
      "text/plain": [
       "Index(['MSSubClass_120', 'MSSubClass_150', 'MSSubClass_160', 'MSSubClass_180',\n",
       "       'MSSubClass_190', 'MSSubClass_20', 'MSSubClass_30', 'MSSubClass_40',\n",
       "       'MSSubClass_45', 'MSSubClass_50', 'MSSubClass_60', 'MSSubClass_70',\n",
       "       'MSSubClass_75', 'MSSubClass_80', 'MSSubClass_85', 'MSSubClass_90'],\n",
       "      dtype='object')"
      ]
     },
     "execution_count": 55,
     "metadata": {},
     "output_type": "execute_result"
    }
   ],
   "source": [
    "dummyMSSubClassTrain.sort_index(axis=1,ascending = True,inplace=True)\n",
    "dummyMSSubClassTrain.columns"
   ]
  },
  {
   "cell_type": "code",
   "execution_count": 56,
   "metadata": {},
   "outputs": [
    {
     "data": {
      "text/plain": [
       "Index(['MSSubClass_120', 'MSSubClass_150', 'MSSubClass_160', 'MSSubClass_180',\n",
       "       'MSSubClass_190', 'MSSubClass_20', 'MSSubClass_30', 'MSSubClass_40',\n",
       "       'MSSubClass_45', 'MSSubClass_50', 'MSSubClass_60', 'MSSubClass_70',\n",
       "       'MSSubClass_75', 'MSSubClass_80', 'MSSubClass_85', 'MSSubClass_90'],\n",
       "      dtype='object')"
      ]
     },
     "execution_count": 56,
     "metadata": {},
     "output_type": "execute_result"
    }
   ],
   "source": [
    "dummyMSSubClassTest.columns"
   ]
  },
  {
   "cell_type": "code",
   "execution_count": 57,
   "metadata": {},
   "outputs": [],
   "source": [
    "from sklearn.preprocessing import OneHotEncoder\n",
    "\n",
    "encoder = OneHotEncoder(handle_unknown='ignore')#处理未知特征：ignore忽略；默认error 报错；\n",
    "\n",
    "oneHotTrain = encoder.fit_transform(oneHotTrain.values)\n",
    "# 稀疏矩阵转换成稠密型矩阵\n",
    "oneHotTrain = oneHotTrain.toarray()"
   ]
  },
  {
   "cell_type": "code",
   "execution_count": 58,
   "metadata": {},
   "outputs": [
    {
     "data": {
      "text/plain": [
       "(1460, 459)"
      ]
     },
     "execution_count": 58,
     "metadata": {},
     "output_type": "execute_result"
    }
   ],
   "source": [
    "oneHotTrain.shape"
   ]
  },
  {
   "cell_type": "code",
   "execution_count": 59,
   "metadata": {},
   "outputs": [],
   "source": [
    "oneHotTest = encoder.transform(oneHotTest.values)\n",
    "oneHotTest = oneHotTest.toarray()"
   ]
  },
  {
   "cell_type": "markdown",
   "metadata": {},
   "source": [
    "*MSSubClass 150: 训练集中没有，测试集中有。所以先对特征做个转换映射到新特征上，之后再用onehot encoder 学习，转换*"
   ]
  },
  {
   "cell_type": "markdown",
   "metadata": {},
   "source": [
    "确实多一个150标签"
   ]
  },
  {
   "cell_type": "markdown",
   "metadata": {},
   "source": [
    "OneHotEncoder将所有特征都进行转换了；不可取！\n",
    "\n",
    "将各种类型数据切分，最后再整合到一起"
   ]
  },
  {
   "cell_type": "code",
   "execution_count": 60,
   "metadata": {},
   "outputs": [
    {
     "name": "stdout",
     "output_type": "stream",
     "text": [
      "oneHotTrain shape: (1460, 459)\n",
      "oneHotTest shape: (1459, 459)\n"
     ]
    }
   ],
   "source": [
    "print('oneHotTrain shape:', oneHotTrain.shape)\n",
    "print('oneHotTest shape:', oneHotTest.shape)"
   ]
  },
  {
   "cell_type": "code",
   "execution_count": 61,
   "metadata": {},
   "outputs": [
    {
     "data": {
      "text/plain": [
       "array(['x0_C (all)', 'x0_FV', 'x0_RH', 'x0_RL', 'x0_RM', 'x1_Grvl',\n",
       "       'x1_Pave', 'x2_Grvl', 'x2_NA', 'x2_Pave', 'x3_IR1', 'x3_IR2',\n",
       "       'x3_IR3', 'x3_Reg', 'x4_Bnk', 'x4_HLS', 'x4_Low', 'x4_Lvl',\n",
       "       'x5_AllPub', 'x5_NoSeWa', 'x6_Corner', 'x6_CulDSac', 'x6_FR2',\n",
       "       'x6_FR3', 'x6_Inside', 'x7_Gtl', 'x7_Mod', 'x7_Sev', 'x8_Blmngtn',\n",
       "       'x8_Blueste', 'x8_BrDale', 'x8_BrkSide', 'x8_ClearCr',\n",
       "       'x8_CollgCr', 'x8_Crawfor', 'x8_Edwards', 'x8_Gilbert',\n",
       "       'x8_IDOTRR', 'x8_MeadowV', 'x8_Mitchel', 'x8_NAmes', 'x8_NPkVill',\n",
       "       'x8_NWAmes', 'x8_NoRidge', 'x8_NridgHt', 'x8_OldTown', 'x8_SWISU',\n",
       "       'x8_Sawyer', 'x8_SawyerW', 'x8_Somerst', 'x8_StoneBr', 'x8_Timber',\n",
       "       'x8_Veenker', 'x9_Artery', 'x9_Feedr', 'x9_Norm', 'x9_PosA',\n",
       "       'x9_PosN', 'x9_RRAe', 'x9_RRAn', 'x9_RRNe', 'x9_RRNn',\n",
       "       'x10_Artery', 'x10_Feedr', 'x10_Norm', 'x10_PosA', 'x10_PosN',\n",
       "       'x10_RRAe', 'x10_RRAn', 'x10_RRNn', 'x11_1Fam', 'x11_2fmCon',\n",
       "       'x11_Duplex', 'x11_Twnhs', 'x11_TwnhsE', 'x12_1.5Fin',\n",
       "       'x12_1.5Unf', 'x12_1Story', 'x12_2.5Fin', 'x12_2.5Unf',\n",
       "       'x12_2Story', 'x12_SFoyer', 'x12_SLvl', 'x13_1872', 'x13_1875',\n",
       "       'x13_1880', 'x13_1882', 'x13_1885', 'x13_1890', 'x13_1892',\n",
       "       'x13_1893', 'x13_1898', 'x13_1900', 'x13_1904', 'x13_1905',\n",
       "       'x13_1906', 'x13_1908', 'x13_1910', 'x13_1911', 'x13_1912',\n",
       "       'x13_1913', 'x13_1914', 'x13_1915', 'x13_1916', 'x13_1917',\n",
       "       'x13_1918', 'x13_1919', 'x13_1920', 'x13_1921', 'x13_1922',\n",
       "       'x13_1923', 'x13_1924', 'x13_1925', 'x13_1926', 'x13_1927',\n",
       "       'x13_1928', 'x13_1929', 'x13_1930', 'x13_1931', 'x13_1932',\n",
       "       'x13_1934', 'x13_1935', 'x13_1936', 'x13_1937', 'x13_1938',\n",
       "       'x13_1939', 'x13_1940', 'x13_1941', 'x13_1942', 'x13_1945',\n",
       "       'x13_1946', 'x13_1947', 'x13_1948', 'x13_1949', 'x13_1950',\n",
       "       'x13_1951', 'x13_1952', 'x13_1953', 'x13_1954', 'x13_1955',\n",
       "       'x13_1956', 'x13_1957', 'x13_1958', 'x13_1959', 'x13_1960',\n",
       "       'x13_1961', 'x13_1962', 'x13_1963', 'x13_1964', 'x13_1965',\n",
       "       'x13_1966', 'x13_1967', 'x13_1968', 'x13_1969', 'x13_1970',\n",
       "       'x13_1971', 'x13_1972', 'x13_1973', 'x13_1974', 'x13_1975',\n",
       "       'x13_1976', 'x13_1977', 'x13_1978', 'x13_1979', 'x13_1980',\n",
       "       'x13_1981', 'x13_1982', 'x13_1983', 'x13_1984', 'x13_1985',\n",
       "       'x13_1986', 'x13_1987', 'x13_1988', 'x13_1989', 'x13_1990',\n",
       "       'x13_1991', 'x13_1992', 'x13_1993', 'x13_1994', 'x13_1995',\n",
       "       'x13_1996', 'x13_1997', 'x13_1998', 'x13_1999', 'x13_2000',\n",
       "       'x13_2001', 'x13_2002', 'x13_2003', 'x13_2004', 'x13_2005',\n",
       "       'x13_2006', 'x13_2007', 'x13_2008', 'x13_2009', 'x13_2010',\n",
       "       'x14_1950', 'x14_1951', 'x14_1952', 'x14_1953', 'x14_1954',\n",
       "       'x14_1955', 'x14_1956', 'x14_1957', 'x14_1958', 'x14_1959',\n",
       "       'x14_1960', 'x14_1961', 'x14_1962', 'x14_1963', 'x14_1964',\n",
       "       'x14_1965', 'x14_1966', 'x14_1967', 'x14_1968', 'x14_1969',\n",
       "       'x14_1970', 'x14_1971', 'x14_1972', 'x14_1973', 'x14_1974',\n",
       "       'x14_1975', 'x14_1976', 'x14_1977', 'x14_1978', 'x14_1979',\n",
       "       'x14_1980', 'x14_1981', 'x14_1982', 'x14_1983', 'x14_1984',\n",
       "       'x14_1985', 'x14_1986', 'x14_1987', 'x14_1988', 'x14_1989',\n",
       "       'x14_1990', 'x14_1991', 'x14_1992', 'x14_1993', 'x14_1994',\n",
       "       'x14_1995', 'x14_1996', 'x14_1997', 'x14_1998', 'x14_1999',\n",
       "       'x14_2000', 'x14_2001', 'x14_2002', 'x14_2003', 'x14_2004',\n",
       "       'x14_2005', 'x14_2006', 'x14_2007', 'x14_2008', 'x14_2009',\n",
       "       'x14_2010', 'x15_Flat', 'x15_Gable', 'x15_Gambrel', 'x15_Hip',\n",
       "       'x15_Mansard', 'x15_Shed', 'x16_ClyTile', 'x16_CompShg',\n",
       "       'x16_Membran', 'x16_Metal', 'x16_Roll', 'x16_Tar&Grv',\n",
       "       'x16_WdShake', 'x16_WdShngl', 'x17_AsbShng', 'x17_AsphShn',\n",
       "       'x17_BrkComm', 'x17_BrkFace', 'x17_CBlock', 'x17_CemntBd',\n",
       "       'x17_HdBoard', 'x17_ImStucc', 'x17_MetalSd', 'x17_Plywood',\n",
       "       'x17_Stone', 'x17_Stucco', 'x17_VinylSd', 'x17_Wd Sdng',\n",
       "       'x17_WdShing', 'x18_AsbShng', 'x18_AsphShn', 'x18_Brk Cmn',\n",
       "       'x18_BrkFace', 'x18_CBlock', 'x18_CmentBd', 'x18_HdBoard',\n",
       "       'x18_ImStucc', 'x18_MetalSd', 'x18_Other', 'x18_Plywood',\n",
       "       'x18_Stone', 'x18_Stucco', 'x18_VinylSd', 'x18_Wd Sdng',\n",
       "       'x18_Wd Shng', 'x19_BrkCmn', 'x19_BrkFace', 'x19_NA', 'x19_None',\n",
       "       'x19_Stone', 'x20_BrkTil', 'x20_CBlock', 'x20_PConc', 'x20_Slab',\n",
       "       'x20_Stone', 'x20_Wood', 'x21_Floor', 'x21_GasA', 'x21_GasW',\n",
       "       'x21_Grav', 'x21_OthW', 'x21_Wall', 'x22_N', 'x22_Y', 'x23_FuseA',\n",
       "       'x23_FuseF', 'x23_FuseP', 'x23_Mix', 'x23_NA', 'x23_SBrkr',\n",
       "       'x24_N', 'x24_P', 'x24_Y', 'x25_1', 'x25_10', 'x25_11', 'x25_12',\n",
       "       'x25_2', 'x25_3', 'x25_4', 'x25_5', 'x25_6', 'x25_7', 'x25_8',\n",
       "       'x25_9', 'x26_2006', 'x26_2007', 'x26_2008', 'x26_2009',\n",
       "       'x26_2010', 'x27_COD', 'x27_CWD', 'x27_Con', 'x27_ConLD',\n",
       "       'x27_ConLI', 'x27_ConLw', 'x27_New', 'x27_Oth', 'x27_WD',\n",
       "       'x28_Abnorml', 'x28_AdjLand', 'x28_Alloca', 'x28_Family',\n",
       "       'x28_Normal', 'x28_Partial', 'x29_0.0', 'x29_1900.0', 'x29_1906.0',\n",
       "       'x29_1908.0', 'x29_1910.0', 'x29_1914.0', 'x29_1915.0',\n",
       "       'x29_1916.0', 'x29_1918.0', 'x29_1920.0', 'x29_1921.0',\n",
       "       'x29_1922.0', 'x29_1923.0', 'x29_1924.0', 'x29_1925.0',\n",
       "       'x29_1926.0', 'x29_1927.0', 'x29_1928.0', 'x29_1929.0',\n",
       "       'x29_1930.0', 'x29_1931.0', 'x29_1932.0', 'x29_1933.0',\n",
       "       'x29_1934.0', 'x29_1935.0', 'x29_1936.0', 'x29_1937.0',\n",
       "       'x29_1938.0', 'x29_1939.0', 'x29_1940.0', 'x29_1941.0',\n",
       "       'x29_1942.0', 'x29_1945.0', 'x29_1946.0', 'x29_1947.0',\n",
       "       'x29_1948.0', 'x29_1949.0', 'x29_1950.0', 'x29_1951.0',\n",
       "       'x29_1952.0', 'x29_1953.0', 'x29_1954.0', 'x29_1955.0',\n",
       "       'x29_1956.0', 'x29_1957.0', 'x29_1958.0', 'x29_1959.0',\n",
       "       'x29_1960.0', 'x29_1961.0', 'x29_1962.0', 'x29_1963.0',\n",
       "       'x29_1964.0', 'x29_1965.0', 'x29_1966.0', 'x29_1967.0',\n",
       "       'x29_1968.0', 'x29_1969.0', 'x29_1970.0', 'x29_1971.0',\n",
       "       'x29_1972.0', 'x29_1973.0', 'x29_1974.0', 'x29_1975.0',\n",
       "       'x29_1976.0', 'x29_1977.0', 'x29_1978.0', 'x29_1979.0',\n",
       "       'x29_1980.0', 'x29_1981.0', 'x29_1982.0', 'x29_1983.0',\n",
       "       'x29_1984.0', 'x29_1985.0', 'x29_1986.0', 'x29_1987.0',\n",
       "       'x29_1988.0', 'x29_1989.0', 'x29_1990.0', 'x29_1991.0',\n",
       "       'x29_1992.0', 'x29_1993.0', 'x29_1994.0', 'x29_1995.0',\n",
       "       'x29_1996.0', 'x29_1997.0', 'x29_1998.0', 'x29_1999.0',\n",
       "       'x29_2000.0', 'x29_2001.0', 'x29_2002.0', 'x29_2003.0',\n",
       "       'x29_2004.0', 'x29_2005.0', 'x29_2006.0', 'x29_2007.0',\n",
       "       'x29_2008.0', 'x29_2009.0', 'x29_2010.0'], dtype=object)"
      ]
     },
     "execution_count": 61,
     "metadata": {},
     "output_type": "execute_result"
    }
   ],
   "source": [
    "encoder.get_feature_names()"
   ]
  },
  {
   "cell_type": "code",
   "execution_count": 62,
   "metadata": {},
   "outputs": [
    {
     "data": {
      "text/plain": [
       "['x0_C (all)',\n",
       " 'x0_FV',\n",
       " 'x0_RH',\n",
       " 'x0_RL',\n",
       " 'x0_RM',\n",
       " 'x1_Grvl',\n",
       " 'x1_Pave',\n",
       " 'x2_Grvl',\n",
       " 'x2_NA',\n",
       " 'x2_Pave',\n",
       " 'x3_IR1',\n",
       " 'x3_IR2',\n",
       " 'x3_IR3',\n",
       " 'x3_Reg',\n",
       " 'x4_Bnk',\n",
       " 'x4_HLS',\n",
       " 'x4_Low',\n",
       " 'x4_Lvl',\n",
       " 'x5_AllPub',\n",
       " 'x5_NoSeWa',\n",
       " 'x6_Corner',\n",
       " 'x6_CulDSac',\n",
       " 'x6_FR2',\n",
       " 'x6_FR3',\n",
       " 'x6_Inside',\n",
       " 'x7_Gtl',\n",
       " 'x7_Mod',\n",
       " 'x7_Sev',\n",
       " 'x8_Blmngtn',\n",
       " 'x8_Blueste',\n",
       " 'x8_BrDale',\n",
       " 'x8_BrkSide',\n",
       " 'x8_ClearCr',\n",
       " 'x8_CollgCr',\n",
       " 'x8_Crawfor',\n",
       " 'x8_Edwards',\n",
       " 'x8_Gilbert',\n",
       " 'x8_IDOTRR',\n",
       " 'x8_MeadowV',\n",
       " 'x8_Mitchel',\n",
       " 'x8_NAmes',\n",
       " 'x8_NPkVill',\n",
       " 'x8_NWAmes',\n",
       " 'x8_NoRidge',\n",
       " 'x8_NridgHt',\n",
       " 'x8_OldTown',\n",
       " 'x8_SWISU',\n",
       " 'x8_Sawyer',\n",
       " 'x8_SawyerW',\n",
       " 'x8_Somerst',\n",
       " 'x8_StoneBr',\n",
       " 'x8_Timber',\n",
       " 'x8_Veenker',\n",
       " 'x9_Artery',\n",
       " 'x9_Feedr',\n",
       " 'x9_Norm',\n",
       " 'x9_PosA',\n",
       " 'x9_PosN',\n",
       " 'x9_RRAe',\n",
       " 'x9_RRAn',\n",
       " 'x9_RRNe',\n",
       " 'x9_RRNn',\n",
       " 'x10_Artery',\n",
       " 'x10_Feedr',\n",
       " 'x10_Norm',\n",
       " 'x10_PosA',\n",
       " 'x10_PosN',\n",
       " 'x10_RRAe',\n",
       " 'x10_RRAn',\n",
       " 'x10_RRNn',\n",
       " 'x11_1Fam',\n",
       " 'x11_2fmCon',\n",
       " 'x11_Duplex',\n",
       " 'x11_Twnhs',\n",
       " 'x11_TwnhsE',\n",
       " 'x12_1.5Fin',\n",
       " 'x12_1.5Unf',\n",
       " 'x12_1Story',\n",
       " 'x12_2.5Fin',\n",
       " 'x12_2.5Unf',\n",
       " 'x12_2Story',\n",
       " 'x12_SFoyer',\n",
       " 'x12_SLvl',\n",
       " 'x13_1872',\n",
       " 'x13_1875',\n",
       " 'x13_1880',\n",
       " 'x13_1882',\n",
       " 'x13_1885',\n",
       " 'x13_1890',\n",
       " 'x13_1892',\n",
       " 'x13_1893',\n",
       " 'x13_1898',\n",
       " 'x13_1900',\n",
       " 'x13_1904',\n",
       " 'x13_1905',\n",
       " 'x13_1906',\n",
       " 'x13_1908',\n",
       " 'x13_1910',\n",
       " 'x13_1911',\n",
       " 'x13_1912',\n",
       " 'x13_1913',\n",
       " 'x13_1914',\n",
       " 'x13_1915',\n",
       " 'x13_1916',\n",
       " 'x13_1917',\n",
       " 'x13_1918',\n",
       " 'x13_1919',\n",
       " 'x13_1920',\n",
       " 'x13_1921',\n",
       " 'x13_1922',\n",
       " 'x13_1923',\n",
       " 'x13_1924',\n",
       " 'x13_1925',\n",
       " 'x13_1926',\n",
       " 'x13_1927',\n",
       " 'x13_1928',\n",
       " 'x13_1929',\n",
       " 'x13_1930',\n",
       " 'x13_1931',\n",
       " 'x13_1932',\n",
       " 'x13_1934',\n",
       " 'x13_1935',\n",
       " 'x13_1936',\n",
       " 'x13_1937',\n",
       " 'x13_1938',\n",
       " 'x13_1939',\n",
       " 'x13_1940',\n",
       " 'x13_1941',\n",
       " 'x13_1942',\n",
       " 'x13_1945',\n",
       " 'x13_1946',\n",
       " 'x13_1947',\n",
       " 'x13_1948',\n",
       " 'x13_1949',\n",
       " 'x13_1950',\n",
       " 'x13_1951',\n",
       " 'x13_1952',\n",
       " 'x13_1953',\n",
       " 'x13_1954',\n",
       " 'x13_1955',\n",
       " 'x13_1956',\n",
       " 'x13_1957',\n",
       " 'x13_1958',\n",
       " 'x13_1959',\n",
       " 'x13_1960',\n",
       " 'x13_1961',\n",
       " 'x13_1962',\n",
       " 'x13_1963',\n",
       " 'x13_1964',\n",
       " 'x13_1965',\n",
       " 'x13_1966',\n",
       " 'x13_1967',\n",
       " 'x13_1968',\n",
       " 'x13_1969',\n",
       " 'x13_1970',\n",
       " 'x13_1971',\n",
       " 'x13_1972',\n",
       " 'x13_1973',\n",
       " 'x13_1974',\n",
       " 'x13_1975',\n",
       " 'x13_1976',\n",
       " 'x13_1977',\n",
       " 'x13_1978',\n",
       " 'x13_1979',\n",
       " 'x13_1980',\n",
       " 'x13_1981',\n",
       " 'x13_1982',\n",
       " 'x13_1983',\n",
       " 'x13_1984',\n",
       " 'x13_1985',\n",
       " 'x13_1986',\n",
       " 'x13_1987',\n",
       " 'x13_1988',\n",
       " 'x13_1989',\n",
       " 'x13_1990',\n",
       " 'x13_1991',\n",
       " 'x13_1992',\n",
       " 'x13_1993',\n",
       " 'x13_1994',\n",
       " 'x13_1995',\n",
       " 'x13_1996',\n",
       " 'x13_1997',\n",
       " 'x13_1998',\n",
       " 'x13_1999',\n",
       " 'x13_2000',\n",
       " 'x13_2001',\n",
       " 'x13_2002',\n",
       " 'x13_2003',\n",
       " 'x13_2004',\n",
       " 'x13_2005',\n",
       " 'x13_2006',\n",
       " 'x13_2007',\n",
       " 'x13_2008',\n",
       " 'x13_2009',\n",
       " 'x13_2010',\n",
       " 'x14_1950',\n",
       " 'x14_1951',\n",
       " 'x14_1952',\n",
       " 'x14_1953',\n",
       " 'x14_1954',\n",
       " 'x14_1955',\n",
       " 'x14_1956',\n",
       " 'x14_1957',\n",
       " 'x14_1958',\n",
       " 'x14_1959',\n",
       " 'x14_1960',\n",
       " 'x14_1961',\n",
       " 'x14_1962',\n",
       " 'x14_1963',\n",
       " 'x14_1964',\n",
       " 'x14_1965',\n",
       " 'x14_1966',\n",
       " 'x14_1967',\n",
       " 'x14_1968',\n",
       " 'x14_1969',\n",
       " 'x14_1970',\n",
       " 'x14_1971',\n",
       " 'x14_1972',\n",
       " 'x14_1973',\n",
       " 'x14_1974',\n",
       " 'x14_1975',\n",
       " 'x14_1976',\n",
       " 'x14_1977',\n",
       " 'x14_1978',\n",
       " 'x14_1979',\n",
       " 'x14_1980',\n",
       " 'x14_1981',\n",
       " 'x14_1982',\n",
       " 'x14_1983',\n",
       " 'x14_1984',\n",
       " 'x14_1985',\n",
       " 'x14_1986',\n",
       " 'x14_1987',\n",
       " 'x14_1988',\n",
       " 'x14_1989',\n",
       " 'x14_1990',\n",
       " 'x14_1991',\n",
       " 'x14_1992',\n",
       " 'x14_1993',\n",
       " 'x14_1994',\n",
       " 'x14_1995',\n",
       " 'x14_1996',\n",
       " 'x14_1997',\n",
       " 'x14_1998',\n",
       " 'x14_1999',\n",
       " 'x14_2000',\n",
       " 'x14_2001',\n",
       " 'x14_2002',\n",
       " 'x14_2003',\n",
       " 'x14_2004',\n",
       " 'x14_2005',\n",
       " 'x14_2006',\n",
       " 'x14_2007',\n",
       " 'x14_2008',\n",
       " 'x14_2009',\n",
       " 'x14_2010',\n",
       " 'x15_Flat',\n",
       " 'x15_Gable',\n",
       " 'x15_Gambrel',\n",
       " 'x15_Hip',\n",
       " 'x15_Mansard',\n",
       " 'x15_Shed',\n",
       " 'x16_ClyTile',\n",
       " 'x16_CompShg',\n",
       " 'x16_Membran',\n",
       " 'x16_Metal',\n",
       " 'x16_Roll',\n",
       " 'x16_Tar&Grv',\n",
       " 'x16_WdShake',\n",
       " 'x16_WdShngl',\n",
       " 'x17_AsbShng',\n",
       " 'x17_AsphShn',\n",
       " 'x17_BrkComm',\n",
       " 'x17_BrkFace',\n",
       " 'x17_CBlock',\n",
       " 'x17_CemntBd',\n",
       " 'x17_HdBoard',\n",
       " 'x17_ImStucc',\n",
       " 'x17_MetalSd',\n",
       " 'x17_Plywood',\n",
       " 'x17_Stone',\n",
       " 'x17_Stucco',\n",
       " 'x17_VinylSd',\n",
       " 'x17_Wd Sdng',\n",
       " 'x17_WdShing',\n",
       " 'x18_AsbShng',\n",
       " 'x18_AsphShn',\n",
       " 'x18_Brk Cmn',\n",
       " 'x18_BrkFace',\n",
       " 'x18_CBlock',\n",
       " 'x18_CmentBd',\n",
       " 'x18_HdBoard',\n",
       " 'x18_ImStucc',\n",
       " 'x18_MetalSd',\n",
       " 'x18_Other',\n",
       " 'x18_Plywood',\n",
       " 'x18_Stone',\n",
       " 'x18_Stucco',\n",
       " 'x18_VinylSd',\n",
       " 'x18_Wd Sdng',\n",
       " 'x18_Wd Shng',\n",
       " 'x19_BrkCmn',\n",
       " 'x19_BrkFace',\n",
       " 'x19_NA',\n",
       " 'x19_None',\n",
       " 'x19_Stone',\n",
       " 'x20_BrkTil',\n",
       " 'x20_CBlock',\n",
       " 'x20_PConc',\n",
       " 'x20_Slab',\n",
       " 'x20_Stone',\n",
       " 'x20_Wood',\n",
       " 'x21_Floor',\n",
       " 'x21_GasA',\n",
       " 'x21_GasW',\n",
       " 'x21_Grav',\n",
       " 'x21_OthW',\n",
       " 'x21_Wall',\n",
       " 'x22_N',\n",
       " 'x22_Y',\n",
       " 'x23_FuseA',\n",
       " 'x23_FuseF',\n",
       " 'x23_FuseP',\n",
       " 'x23_Mix',\n",
       " 'x23_NA',\n",
       " 'x23_SBrkr',\n",
       " 'x24_N',\n",
       " 'x24_P',\n",
       " 'x24_Y',\n",
       " 'x25_1',\n",
       " 'x25_10',\n",
       " 'x25_11',\n",
       " 'x25_12',\n",
       " 'x25_2',\n",
       " 'x25_3',\n",
       " 'x25_4',\n",
       " 'x25_5',\n",
       " 'x25_6',\n",
       " 'x25_7',\n",
       " 'x25_8',\n",
       " 'x25_9',\n",
       " 'x26_2006',\n",
       " 'x26_2007',\n",
       " 'x26_2008',\n",
       " 'x26_2009',\n",
       " 'x26_2010',\n",
       " 'x27_COD',\n",
       " 'x27_CWD',\n",
       " 'x27_Con',\n",
       " 'x27_ConLD',\n",
       " 'x27_ConLI',\n",
       " 'x27_ConLw',\n",
       " 'x27_New',\n",
       " 'x27_Oth',\n",
       " 'x27_WD',\n",
       " 'x28_Abnorml',\n",
       " 'x28_AdjLand',\n",
       " 'x28_Alloca',\n",
       " 'x28_Family',\n",
       " 'x28_Normal',\n",
       " 'x28_Partial',\n",
       " 'x29_0.0',\n",
       " 'x29_1900.0',\n",
       " 'x29_1906.0',\n",
       " 'x29_1908.0',\n",
       " 'x29_1910.0',\n",
       " 'x29_1914.0',\n",
       " 'x29_1915.0',\n",
       " 'x29_1916.0',\n",
       " 'x29_1918.0',\n",
       " 'x29_1920.0',\n",
       " 'x29_1921.0',\n",
       " 'x29_1922.0',\n",
       " 'x29_1923.0',\n",
       " 'x29_1924.0',\n",
       " 'x29_1925.0',\n",
       " 'x29_1926.0',\n",
       " 'x29_1927.0',\n",
       " 'x29_1928.0',\n",
       " 'x29_1929.0',\n",
       " 'x29_1930.0',\n",
       " 'x29_1931.0',\n",
       " 'x29_1932.0',\n",
       " 'x29_1933.0',\n",
       " 'x29_1934.0',\n",
       " 'x29_1935.0',\n",
       " 'x29_1936.0',\n",
       " 'x29_1937.0',\n",
       " 'x29_1938.0',\n",
       " 'x29_1939.0',\n",
       " 'x29_1940.0',\n",
       " 'x29_1941.0',\n",
       " 'x29_1942.0',\n",
       " 'x29_1945.0',\n",
       " 'x29_1946.0',\n",
       " 'x29_1947.0',\n",
       " 'x29_1948.0',\n",
       " 'x29_1949.0',\n",
       " 'x29_1950.0',\n",
       " 'x29_1951.0',\n",
       " 'x29_1952.0',\n",
       " 'x29_1953.0',\n",
       " 'x29_1954.0',\n",
       " 'x29_1955.0',\n",
       " 'x29_1956.0',\n",
       " 'x29_1957.0',\n",
       " 'x29_1958.0',\n",
       " 'x29_1959.0',\n",
       " 'x29_1960.0',\n",
       " 'x29_1961.0',\n",
       " 'x29_1962.0',\n",
       " 'x29_1963.0',\n",
       " 'x29_1964.0',\n",
       " 'x29_1965.0',\n",
       " 'x29_1966.0',\n",
       " 'x29_1967.0',\n",
       " 'x29_1968.0',\n",
       " 'x29_1969.0',\n",
       " 'x29_1970.0',\n",
       " 'x29_1971.0',\n",
       " 'x29_1972.0',\n",
       " 'x29_1973.0',\n",
       " 'x29_1974.0',\n",
       " 'x29_1975.0',\n",
       " 'x29_1976.0',\n",
       " 'x29_1977.0',\n",
       " 'x29_1978.0',\n",
       " 'x29_1979.0',\n",
       " 'x29_1980.0',\n",
       " 'x29_1981.0',\n",
       " 'x29_1982.0',\n",
       " 'x29_1983.0',\n",
       " 'x29_1984.0',\n",
       " 'x29_1985.0',\n",
       " 'x29_1986.0',\n",
       " 'x29_1987.0',\n",
       " 'x29_1988.0',\n",
       " 'x29_1989.0',\n",
       " 'x29_1990.0',\n",
       " 'x29_1991.0',\n",
       " 'x29_1992.0',\n",
       " 'x29_1993.0',\n",
       " 'x29_1994.0',\n",
       " 'x29_1995.0',\n",
       " 'x29_1996.0',\n",
       " 'x29_1997.0',\n",
       " 'x29_1998.0',\n",
       " 'x29_1999.0',\n",
       " 'x29_2000.0',\n",
       " 'x29_2001.0',\n",
       " 'x29_2002.0',\n",
       " 'x29_2003.0',\n",
       " 'x29_2004.0',\n",
       " 'x29_2005.0',\n",
       " 'x29_2006.0',\n",
       " 'x29_2007.0',\n",
       " 'x29_2008.0',\n",
       " 'x29_2009.0',\n",
       " 'x29_2010.0']"
      ]
     },
     "execution_count": 62,
     "metadata": {},
     "output_type": "execute_result"
    }
   ],
   "source": [
    "encoder.get_feature_names().tolist()"
   ]
  },
  {
   "cell_type": "code",
   "execution_count": 63,
   "metadata": {},
   "outputs": [],
   "source": [
    "oneHotTrain = pd.DataFrame(oneHotTrain,columns=encoder.get_feature_names().tolist())\n",
    "oneHotTest = pd.DataFrame(oneHotTest,columns=encoder.get_feature_names().tolist())"
   ]
  },
  {
   "cell_type": "code",
   "execution_count": 64,
   "metadata": {},
   "outputs": [
    {
     "data": {
      "text/html": [
       "<div>\n",
       "<style scoped>\n",
       "    .dataframe tbody tr th:only-of-type {\n",
       "        vertical-align: middle;\n",
       "    }\n",
       "\n",
       "    .dataframe tbody tr th {\n",
       "        vertical-align: top;\n",
       "    }\n",
       "\n",
       "    .dataframe thead th {\n",
       "        text-align: right;\n",
       "    }\n",
       "</style>\n",
       "<table border=\"1\" class=\"dataframe\">\n",
       "  <thead>\n",
       "    <tr style=\"text-align: right;\">\n",
       "      <th></th>\n",
       "      <th>x0_C (all)</th>\n",
       "      <th>x0_FV</th>\n",
       "      <th>x0_RH</th>\n",
       "      <th>x0_RL</th>\n",
       "      <th>x0_RM</th>\n",
       "      <th>x1_Grvl</th>\n",
       "      <th>x1_Pave</th>\n",
       "      <th>x2_Grvl</th>\n",
       "      <th>x2_NA</th>\n",
       "      <th>x2_Pave</th>\n",
       "      <th>...</th>\n",
       "      <th>x29_2001.0</th>\n",
       "      <th>x29_2002.0</th>\n",
       "      <th>x29_2003.0</th>\n",
       "      <th>x29_2004.0</th>\n",
       "      <th>x29_2005.0</th>\n",
       "      <th>x29_2006.0</th>\n",
       "      <th>x29_2007.0</th>\n",
       "      <th>x29_2008.0</th>\n",
       "      <th>x29_2009.0</th>\n",
       "      <th>x29_2010.0</th>\n",
       "    </tr>\n",
       "  </thead>\n",
       "  <tbody>\n",
       "    <tr>\n",
       "      <th>0</th>\n",
       "      <td>0.0</td>\n",
       "      <td>0.0</td>\n",
       "      <td>0.0</td>\n",
       "      <td>1.0</td>\n",
       "      <td>0.0</td>\n",
       "      <td>0.0</td>\n",
       "      <td>1.0</td>\n",
       "      <td>0.0</td>\n",
       "      <td>1.0</td>\n",
       "      <td>0.0</td>\n",
       "      <td>...</td>\n",
       "      <td>0.0</td>\n",
       "      <td>0.0</td>\n",
       "      <td>1.0</td>\n",
       "      <td>0.0</td>\n",
       "      <td>0.0</td>\n",
       "      <td>0.0</td>\n",
       "      <td>0.0</td>\n",
       "      <td>0.0</td>\n",
       "      <td>0.0</td>\n",
       "      <td>0.0</td>\n",
       "    </tr>\n",
       "    <tr>\n",
       "      <th>1</th>\n",
       "      <td>0.0</td>\n",
       "      <td>0.0</td>\n",
       "      <td>0.0</td>\n",
       "      <td>1.0</td>\n",
       "      <td>0.0</td>\n",
       "      <td>0.0</td>\n",
       "      <td>1.0</td>\n",
       "      <td>0.0</td>\n",
       "      <td>1.0</td>\n",
       "      <td>0.0</td>\n",
       "      <td>...</td>\n",
       "      <td>0.0</td>\n",
       "      <td>0.0</td>\n",
       "      <td>0.0</td>\n",
       "      <td>0.0</td>\n",
       "      <td>0.0</td>\n",
       "      <td>0.0</td>\n",
       "      <td>0.0</td>\n",
       "      <td>0.0</td>\n",
       "      <td>0.0</td>\n",
       "      <td>0.0</td>\n",
       "    </tr>\n",
       "    <tr>\n",
       "      <th>2</th>\n",
       "      <td>0.0</td>\n",
       "      <td>0.0</td>\n",
       "      <td>0.0</td>\n",
       "      <td>1.0</td>\n",
       "      <td>0.0</td>\n",
       "      <td>0.0</td>\n",
       "      <td>1.0</td>\n",
       "      <td>0.0</td>\n",
       "      <td>1.0</td>\n",
       "      <td>0.0</td>\n",
       "      <td>...</td>\n",
       "      <td>1.0</td>\n",
       "      <td>0.0</td>\n",
       "      <td>0.0</td>\n",
       "      <td>0.0</td>\n",
       "      <td>0.0</td>\n",
       "      <td>0.0</td>\n",
       "      <td>0.0</td>\n",
       "      <td>0.0</td>\n",
       "      <td>0.0</td>\n",
       "      <td>0.0</td>\n",
       "    </tr>\n",
       "    <tr>\n",
       "      <th>3</th>\n",
       "      <td>0.0</td>\n",
       "      <td>0.0</td>\n",
       "      <td>0.0</td>\n",
       "      <td>1.0</td>\n",
       "      <td>0.0</td>\n",
       "      <td>0.0</td>\n",
       "      <td>1.0</td>\n",
       "      <td>0.0</td>\n",
       "      <td>1.0</td>\n",
       "      <td>0.0</td>\n",
       "      <td>...</td>\n",
       "      <td>0.0</td>\n",
       "      <td>0.0</td>\n",
       "      <td>0.0</td>\n",
       "      <td>0.0</td>\n",
       "      <td>0.0</td>\n",
       "      <td>0.0</td>\n",
       "      <td>0.0</td>\n",
       "      <td>0.0</td>\n",
       "      <td>0.0</td>\n",
       "      <td>0.0</td>\n",
       "    </tr>\n",
       "    <tr>\n",
       "      <th>4</th>\n",
       "      <td>0.0</td>\n",
       "      <td>0.0</td>\n",
       "      <td>0.0</td>\n",
       "      <td>1.0</td>\n",
       "      <td>0.0</td>\n",
       "      <td>0.0</td>\n",
       "      <td>1.0</td>\n",
       "      <td>0.0</td>\n",
       "      <td>1.0</td>\n",
       "      <td>0.0</td>\n",
       "      <td>...</td>\n",
       "      <td>0.0</td>\n",
       "      <td>0.0</td>\n",
       "      <td>0.0</td>\n",
       "      <td>0.0</td>\n",
       "      <td>0.0</td>\n",
       "      <td>0.0</td>\n",
       "      <td>0.0</td>\n",
       "      <td>0.0</td>\n",
       "      <td>0.0</td>\n",
       "      <td>0.0</td>\n",
       "    </tr>\n",
       "  </tbody>\n",
       "</table>\n",
       "<p>5 rows × 459 columns</p>\n",
       "</div>"
      ],
      "text/plain": [
       "   x0_C (all)  x0_FV  x0_RH  x0_RL  x0_RM  x1_Grvl  x1_Pave  x2_Grvl  x2_NA  \\\n",
       "0         0.0    0.0    0.0    1.0    0.0      0.0      1.0      0.0    1.0   \n",
       "1         0.0    0.0    0.0    1.0    0.0      0.0      1.0      0.0    1.0   \n",
       "2         0.0    0.0    0.0    1.0    0.0      0.0      1.0      0.0    1.0   \n",
       "3         0.0    0.0    0.0    1.0    0.0      0.0      1.0      0.0    1.0   \n",
       "4         0.0    0.0    0.0    1.0    0.0      0.0      1.0      0.0    1.0   \n",
       "\n",
       "   x2_Pave     ...      x29_2001.0  x29_2002.0  x29_2003.0  x29_2004.0  \\\n",
       "0      0.0     ...             0.0         0.0         1.0         0.0   \n",
       "1      0.0     ...             0.0         0.0         0.0         0.0   \n",
       "2      0.0     ...             1.0         0.0         0.0         0.0   \n",
       "3      0.0     ...             0.0         0.0         0.0         0.0   \n",
       "4      0.0     ...             0.0         0.0         0.0         0.0   \n",
       "\n",
       "   x29_2005.0  x29_2006.0  x29_2007.0  x29_2008.0  x29_2009.0  x29_2010.0  \n",
       "0         0.0         0.0         0.0         0.0         0.0         0.0  \n",
       "1         0.0         0.0         0.0         0.0         0.0         0.0  \n",
       "2         0.0         0.0         0.0         0.0         0.0         0.0  \n",
       "3         0.0         0.0         0.0         0.0         0.0         0.0  \n",
       "4         0.0         0.0         0.0         0.0         0.0         0.0  \n",
       "\n",
       "[5 rows x 459 columns]"
      ]
     },
     "execution_count": 64,
     "metadata": {},
     "output_type": "execute_result"
    }
   ],
   "source": [
    "oneHotTrain.head()"
   ]
  },
  {
   "cell_type": "code",
   "execution_count": 65,
   "metadata": {},
   "outputs": [
    {
     "data": {
      "text/html": [
       "<div>\n",
       "<style scoped>\n",
       "    .dataframe tbody tr th:only-of-type {\n",
       "        vertical-align: middle;\n",
       "    }\n",
       "\n",
       "    .dataframe tbody tr th {\n",
       "        vertical-align: top;\n",
       "    }\n",
       "\n",
       "    .dataframe thead th {\n",
       "        text-align: right;\n",
       "    }\n",
       "</style>\n",
       "<table border=\"1\" class=\"dataframe\">\n",
       "  <thead>\n",
       "    <tr style=\"text-align: right;\">\n",
       "      <th></th>\n",
       "      <th>x0_C (all)</th>\n",
       "      <th>x0_FV</th>\n",
       "      <th>x0_RH</th>\n",
       "      <th>x0_RL</th>\n",
       "      <th>x0_RM</th>\n",
       "      <th>x1_Grvl</th>\n",
       "      <th>x1_Pave</th>\n",
       "      <th>x2_Grvl</th>\n",
       "      <th>x2_NA</th>\n",
       "      <th>x2_Pave</th>\n",
       "      <th>...</th>\n",
       "      <th>x29_2001.0</th>\n",
       "      <th>x29_2002.0</th>\n",
       "      <th>x29_2003.0</th>\n",
       "      <th>x29_2004.0</th>\n",
       "      <th>x29_2005.0</th>\n",
       "      <th>x29_2006.0</th>\n",
       "      <th>x29_2007.0</th>\n",
       "      <th>x29_2008.0</th>\n",
       "      <th>x29_2009.0</th>\n",
       "      <th>x29_2010.0</th>\n",
       "    </tr>\n",
       "  </thead>\n",
       "  <tbody>\n",
       "    <tr>\n",
       "      <th>0</th>\n",
       "      <td>0.0</td>\n",
       "      <td>0.0</td>\n",
       "      <td>1.0</td>\n",
       "      <td>0.0</td>\n",
       "      <td>0.0</td>\n",
       "      <td>0.0</td>\n",
       "      <td>1.0</td>\n",
       "      <td>0.0</td>\n",
       "      <td>1.0</td>\n",
       "      <td>0.0</td>\n",
       "      <td>...</td>\n",
       "      <td>0.0</td>\n",
       "      <td>0.0</td>\n",
       "      <td>0.0</td>\n",
       "      <td>0.0</td>\n",
       "      <td>0.0</td>\n",
       "      <td>0.0</td>\n",
       "      <td>0.0</td>\n",
       "      <td>0.0</td>\n",
       "      <td>0.0</td>\n",
       "      <td>0.0</td>\n",
       "    </tr>\n",
       "    <tr>\n",
       "      <th>1</th>\n",
       "      <td>0.0</td>\n",
       "      <td>0.0</td>\n",
       "      <td>0.0</td>\n",
       "      <td>1.0</td>\n",
       "      <td>0.0</td>\n",
       "      <td>0.0</td>\n",
       "      <td>1.0</td>\n",
       "      <td>0.0</td>\n",
       "      <td>1.0</td>\n",
       "      <td>0.0</td>\n",
       "      <td>...</td>\n",
       "      <td>0.0</td>\n",
       "      <td>0.0</td>\n",
       "      <td>0.0</td>\n",
       "      <td>0.0</td>\n",
       "      <td>0.0</td>\n",
       "      <td>0.0</td>\n",
       "      <td>0.0</td>\n",
       "      <td>0.0</td>\n",
       "      <td>0.0</td>\n",
       "      <td>0.0</td>\n",
       "    </tr>\n",
       "    <tr>\n",
       "      <th>2</th>\n",
       "      <td>0.0</td>\n",
       "      <td>0.0</td>\n",
       "      <td>0.0</td>\n",
       "      <td>1.0</td>\n",
       "      <td>0.0</td>\n",
       "      <td>0.0</td>\n",
       "      <td>1.0</td>\n",
       "      <td>0.0</td>\n",
       "      <td>1.0</td>\n",
       "      <td>0.0</td>\n",
       "      <td>...</td>\n",
       "      <td>0.0</td>\n",
       "      <td>0.0</td>\n",
       "      <td>0.0</td>\n",
       "      <td>0.0</td>\n",
       "      <td>0.0</td>\n",
       "      <td>0.0</td>\n",
       "      <td>0.0</td>\n",
       "      <td>0.0</td>\n",
       "      <td>0.0</td>\n",
       "      <td>0.0</td>\n",
       "    </tr>\n",
       "    <tr>\n",
       "      <th>3</th>\n",
       "      <td>0.0</td>\n",
       "      <td>0.0</td>\n",
       "      <td>0.0</td>\n",
       "      <td>1.0</td>\n",
       "      <td>0.0</td>\n",
       "      <td>0.0</td>\n",
       "      <td>1.0</td>\n",
       "      <td>0.0</td>\n",
       "      <td>1.0</td>\n",
       "      <td>0.0</td>\n",
       "      <td>...</td>\n",
       "      <td>0.0</td>\n",
       "      <td>0.0</td>\n",
       "      <td>0.0</td>\n",
       "      <td>0.0</td>\n",
       "      <td>0.0</td>\n",
       "      <td>0.0</td>\n",
       "      <td>0.0</td>\n",
       "      <td>0.0</td>\n",
       "      <td>0.0</td>\n",
       "      <td>0.0</td>\n",
       "    </tr>\n",
       "    <tr>\n",
       "      <th>4</th>\n",
       "      <td>0.0</td>\n",
       "      <td>0.0</td>\n",
       "      <td>0.0</td>\n",
       "      <td>1.0</td>\n",
       "      <td>0.0</td>\n",
       "      <td>0.0</td>\n",
       "      <td>1.0</td>\n",
       "      <td>0.0</td>\n",
       "      <td>1.0</td>\n",
       "      <td>0.0</td>\n",
       "      <td>...</td>\n",
       "      <td>0.0</td>\n",
       "      <td>0.0</td>\n",
       "      <td>0.0</td>\n",
       "      <td>0.0</td>\n",
       "      <td>0.0</td>\n",
       "      <td>0.0</td>\n",
       "      <td>0.0</td>\n",
       "      <td>0.0</td>\n",
       "      <td>0.0</td>\n",
       "      <td>0.0</td>\n",
       "    </tr>\n",
       "  </tbody>\n",
       "</table>\n",
       "<p>5 rows × 459 columns</p>\n",
       "</div>"
      ],
      "text/plain": [
       "   x0_C (all)  x0_FV  x0_RH  x0_RL  x0_RM  x1_Grvl  x1_Pave  x2_Grvl  x2_NA  \\\n",
       "0         0.0    0.0    1.0    0.0    0.0      0.0      1.0      0.0    1.0   \n",
       "1         0.0    0.0    0.0    1.0    0.0      0.0      1.0      0.0    1.0   \n",
       "2         0.0    0.0    0.0    1.0    0.0      0.0      1.0      0.0    1.0   \n",
       "3         0.0    0.0    0.0    1.0    0.0      0.0      1.0      0.0    1.0   \n",
       "4         0.0    0.0    0.0    1.0    0.0      0.0      1.0      0.0    1.0   \n",
       "\n",
       "   x2_Pave     ...      x29_2001.0  x29_2002.0  x29_2003.0  x29_2004.0  \\\n",
       "0      0.0     ...             0.0         0.0         0.0         0.0   \n",
       "1      0.0     ...             0.0         0.0         0.0         0.0   \n",
       "2      0.0     ...             0.0         0.0         0.0         0.0   \n",
       "3      0.0     ...             0.0         0.0         0.0         0.0   \n",
       "4      0.0     ...             0.0         0.0         0.0         0.0   \n",
       "\n",
       "   x29_2005.0  x29_2006.0  x29_2007.0  x29_2008.0  x29_2009.0  x29_2010.0  \n",
       "0         0.0         0.0         0.0         0.0         0.0         0.0  \n",
       "1         0.0         0.0         0.0         0.0         0.0         0.0  \n",
       "2         0.0         0.0         0.0         0.0         0.0         0.0  \n",
       "3         0.0         0.0         0.0         0.0         0.0         0.0  \n",
       "4         0.0         0.0         0.0         0.0         0.0         0.0  \n",
       "\n",
       "[5 rows x 459 columns]"
      ]
     },
     "execution_count": 65,
     "metadata": {},
     "output_type": "execute_result"
    }
   ],
   "source": [
    "oneHotTest.head()"
   ]
  },
  {
   "cell_type": "markdown",
   "metadata": {},
   "source": [
    "### 数值型数据\n",
    "\n",
    "rescale\n",
    "StandardScaler 正太化"
   ]
  },
  {
   "cell_type": "code",
   "execution_count": 66,
   "metadata": {},
   "outputs": [
    {
     "data": {
      "text/plain": [
       "Index(['LotFrontage', 'LotArea', 'OverallQual', 'OverallCond', 'MasVnrArea',\n",
       "       'BsmtFinSF1', 'BsmtFinSF2', 'BsmtUnfSF', 'TotalBsmtSF', '1stFlrSF',\n",
       "       '2ndFlrSF', 'LowQualFinSF', 'GrLivArea', 'BsmtFullBath', 'BsmtHalfBath',\n",
       "       'FullBath', 'HalfBath', 'BedroomAbvGr', 'KitchenAbvGr', 'TotRmsAbvGrd',\n",
       "       'Fireplaces', 'GarageCars', 'GarageArea', 'WoodDeckSF', 'OpenPorchSF',\n",
       "       'EnclosedPorch', '3SsnPorch', 'ScreenPorch', 'PoolArea', 'MiscVal'],\n",
       "      dtype='object')"
      ]
     },
     "execution_count": 66,
     "metadata": {},
     "output_type": "execute_result"
    }
   ],
   "source": [
    "numFeats"
   ]
  },
  {
   "cell_type": "code",
   "execution_count": 67,
   "metadata": {},
   "outputs": [
    {
     "data": {
      "text/html": [
       "<div>\n",
       "<style scoped>\n",
       "    .dataframe tbody tr th:only-of-type {\n",
       "        vertical-align: middle;\n",
       "    }\n",
       "\n",
       "    .dataframe tbody tr th {\n",
       "        vertical-align: top;\n",
       "    }\n",
       "\n",
       "    .dataframe thead th {\n",
       "        text-align: right;\n",
       "    }\n",
       "</style>\n",
       "<table border=\"1\" class=\"dataframe\">\n",
       "  <thead>\n",
       "    <tr style=\"text-align: right;\">\n",
       "      <th></th>\n",
       "      <th>LotFrontage</th>\n",
       "      <th>LotArea</th>\n",
       "      <th>OverallQual</th>\n",
       "      <th>OverallCond</th>\n",
       "      <th>MasVnrArea</th>\n",
       "      <th>BsmtFinSF1</th>\n",
       "      <th>BsmtFinSF2</th>\n",
       "      <th>BsmtUnfSF</th>\n",
       "      <th>TotalBsmtSF</th>\n",
       "      <th>1stFlrSF</th>\n",
       "      <th>...</th>\n",
       "      <th>Fireplaces</th>\n",
       "      <th>GarageCars</th>\n",
       "      <th>GarageArea</th>\n",
       "      <th>WoodDeckSF</th>\n",
       "      <th>OpenPorchSF</th>\n",
       "      <th>EnclosedPorch</th>\n",
       "      <th>3SsnPorch</th>\n",
       "      <th>ScreenPorch</th>\n",
       "      <th>PoolArea</th>\n",
       "      <th>MiscVal</th>\n",
       "    </tr>\n",
       "  </thead>\n",
       "  <tbody>\n",
       "    <tr>\n",
       "      <th>0</th>\n",
       "      <td>65.0</td>\n",
       "      <td>8450</td>\n",
       "      <td>7</td>\n",
       "      <td>5</td>\n",
       "      <td>196.0</td>\n",
       "      <td>706</td>\n",
       "      <td>0</td>\n",
       "      <td>150</td>\n",
       "      <td>856</td>\n",
       "      <td>856</td>\n",
       "      <td>...</td>\n",
       "      <td>0</td>\n",
       "      <td>2</td>\n",
       "      <td>548</td>\n",
       "      <td>0</td>\n",
       "      <td>61</td>\n",
       "      <td>0</td>\n",
       "      <td>0</td>\n",
       "      <td>0</td>\n",
       "      <td>0</td>\n",
       "      <td>0</td>\n",
       "    </tr>\n",
       "    <tr>\n",
       "      <th>1</th>\n",
       "      <td>80.0</td>\n",
       "      <td>9600</td>\n",
       "      <td>6</td>\n",
       "      <td>8</td>\n",
       "      <td>0.0</td>\n",
       "      <td>978</td>\n",
       "      <td>0</td>\n",
       "      <td>284</td>\n",
       "      <td>1262</td>\n",
       "      <td>1262</td>\n",
       "      <td>...</td>\n",
       "      <td>1</td>\n",
       "      <td>2</td>\n",
       "      <td>460</td>\n",
       "      <td>298</td>\n",
       "      <td>0</td>\n",
       "      <td>0</td>\n",
       "      <td>0</td>\n",
       "      <td>0</td>\n",
       "      <td>0</td>\n",
       "      <td>0</td>\n",
       "    </tr>\n",
       "    <tr>\n",
       "      <th>2</th>\n",
       "      <td>68.0</td>\n",
       "      <td>11250</td>\n",
       "      <td>7</td>\n",
       "      <td>5</td>\n",
       "      <td>162.0</td>\n",
       "      <td>486</td>\n",
       "      <td>0</td>\n",
       "      <td>434</td>\n",
       "      <td>920</td>\n",
       "      <td>920</td>\n",
       "      <td>...</td>\n",
       "      <td>1</td>\n",
       "      <td>2</td>\n",
       "      <td>608</td>\n",
       "      <td>0</td>\n",
       "      <td>42</td>\n",
       "      <td>0</td>\n",
       "      <td>0</td>\n",
       "      <td>0</td>\n",
       "      <td>0</td>\n",
       "      <td>0</td>\n",
       "    </tr>\n",
       "    <tr>\n",
       "      <th>3</th>\n",
       "      <td>60.0</td>\n",
       "      <td>9550</td>\n",
       "      <td>7</td>\n",
       "      <td>5</td>\n",
       "      <td>0.0</td>\n",
       "      <td>216</td>\n",
       "      <td>0</td>\n",
       "      <td>540</td>\n",
       "      <td>756</td>\n",
       "      <td>961</td>\n",
       "      <td>...</td>\n",
       "      <td>1</td>\n",
       "      <td>3</td>\n",
       "      <td>642</td>\n",
       "      <td>0</td>\n",
       "      <td>35</td>\n",
       "      <td>272</td>\n",
       "      <td>0</td>\n",
       "      <td>0</td>\n",
       "      <td>0</td>\n",
       "      <td>0</td>\n",
       "    </tr>\n",
       "    <tr>\n",
       "      <th>4</th>\n",
       "      <td>84.0</td>\n",
       "      <td>14260</td>\n",
       "      <td>8</td>\n",
       "      <td>5</td>\n",
       "      <td>350.0</td>\n",
       "      <td>655</td>\n",
       "      <td>0</td>\n",
       "      <td>490</td>\n",
       "      <td>1145</td>\n",
       "      <td>1145</td>\n",
       "      <td>...</td>\n",
       "      <td>1</td>\n",
       "      <td>3</td>\n",
       "      <td>836</td>\n",
       "      <td>192</td>\n",
       "      <td>84</td>\n",
       "      <td>0</td>\n",
       "      <td>0</td>\n",
       "      <td>0</td>\n",
       "      <td>0</td>\n",
       "      <td>0</td>\n",
       "    </tr>\n",
       "  </tbody>\n",
       "</table>\n",
       "<p>5 rows × 30 columns</p>\n",
       "</div>"
      ],
      "text/plain": [
       "   LotFrontage  LotArea  OverallQual  OverallCond  MasVnrArea  BsmtFinSF1  \\\n",
       "0         65.0     8450            7            5       196.0         706   \n",
       "1         80.0     9600            6            8         0.0         978   \n",
       "2         68.0    11250            7            5       162.0         486   \n",
       "3         60.0     9550            7            5         0.0         216   \n",
       "4         84.0    14260            8            5       350.0         655   \n",
       "\n",
       "   BsmtFinSF2  BsmtUnfSF  TotalBsmtSF  1stFlrSF   ...     Fireplaces  \\\n",
       "0           0        150          856       856   ...              0   \n",
       "1           0        284         1262      1262   ...              1   \n",
       "2           0        434          920       920   ...              1   \n",
       "3           0        540          756       961   ...              1   \n",
       "4           0        490         1145      1145   ...              1   \n",
       "\n",
       "   GarageCars  GarageArea  WoodDeckSF  OpenPorchSF  EnclosedPorch  3SsnPorch  \\\n",
       "0           2         548           0           61              0          0   \n",
       "1           2         460         298            0              0          0   \n",
       "2           2         608           0           42              0          0   \n",
       "3           3         642           0           35            272          0   \n",
       "4           3         836         192           84              0          0   \n",
       "\n",
       "   ScreenPorch  PoolArea  MiscVal  \n",
       "0            0         0        0  \n",
       "1            0         0        0  \n",
       "2            0         0        0  \n",
       "3            0         0        0  \n",
       "4            0         0        0  \n",
       "\n",
       "[5 rows x 30 columns]"
      ]
     },
     "execution_count": 67,
     "metadata": {},
     "output_type": "execute_result"
    }
   ],
   "source": [
    "numTrain = train[numFeats]\n",
    "numTest = test[numFeats]\n",
    "\n",
    "numTrain.head()"
   ]
  },
  {
   "cell_type": "code",
   "execution_count": 68,
   "metadata": {},
   "outputs": [],
   "source": [
    "from sklearn.preprocessing import StandardScaler\n",
    "\n",
    "scaler = StandardScaler()\n",
    "numTrain = scaler.fit_transform(numTrain)\n",
    "numTest = scaler.transform(numTest)"
   ]
  },
  {
   "cell_type": "code",
   "execution_count": 69,
   "metadata": {},
   "outputs": [
    {
     "data": {
      "text/plain": [
       "(1460, 30)"
      ]
     },
     "execution_count": 69,
     "metadata": {},
     "output_type": "execute_result"
    }
   ],
   "source": [
    "numTrain.shape"
   ]
  },
  {
   "cell_type": "code",
   "execution_count": 70,
   "metadata": {},
   "outputs": [
    {
     "data": {
      "text/plain": [
       "(1459, 30)"
      ]
     },
     "execution_count": 70,
     "metadata": {},
     "output_type": "execute_result"
    }
   ],
   "source": [
    "numTest.shape"
   ]
  },
  {
   "cell_type": "code",
   "execution_count": 71,
   "metadata": {},
   "outputs": [
    {
     "data": {
      "text/plain": [
       "array([[-0.22087509, -0.20714171,  0.65147924, ..., -0.27020835,\n",
       "        -0.06869175, -0.08768781],\n",
       "       [ 0.46031974, -0.09188637, -0.07183611, ..., -0.27020835,\n",
       "        -0.06869175, -0.08768781],\n",
       "       [-0.08463612,  0.07347998,  0.65147924, ..., -0.27020835,\n",
       "        -0.06869175, -0.08768781],\n",
       "       ...,\n",
       "       [-0.1754621 , -0.14781027,  0.65147924, ..., -0.27020835,\n",
       "        -0.06869175,  4.95311151],\n",
       "       [-0.08463612, -0.08016039, -0.79515147, ..., -0.27020835,\n",
       "        -0.06869175, -0.08768781],\n",
       "       [ 0.23325479, -0.05811155, -0.79515147, ..., -0.27020835,\n",
       "        -0.06869175, -0.08768781]])"
      ]
     },
     "execution_count": 71,
     "metadata": {},
     "output_type": "execute_result"
    }
   ],
   "source": [
    "numTrain"
   ]
  },
  {
   "cell_type": "code",
   "execution_count": 72,
   "metadata": {},
   "outputs": [],
   "source": [
    "numTrain = pd.DataFrame(numTrain,columns=numFeats)"
   ]
  },
  {
   "cell_type": "code",
   "execution_count": 73,
   "metadata": {},
   "outputs": [],
   "source": [
    "numTest = pd.DataFrame(numTest,columns=numFeats)"
   ]
  },
  {
   "cell_type": "code",
   "execution_count": 74,
   "metadata": {},
   "outputs": [
    {
     "name": "stdout",
     "output_type": "stream",
     "text": [
      "<class 'pandas.core.frame.DataFrame'> <class 'pandas.core.frame.DataFrame'> <class 'pandas.core.frame.DataFrame'> <class 'pandas.core.frame.DataFrame'>\n"
     ]
    }
   ],
   "source": [
    "print(type(cateTrain),type(dummyMSSubClassTrain),type(oneHotTrain),type(numTrain))"
   ]
  },
  {
   "cell_type": "code",
   "execution_count": 75,
   "metadata": {},
   "outputs": [],
   "source": [
    "X_train = pd.concat([cateTrain,dummyMSSubClassTrain,oneHotTrain,numTrain],axis=1)\n",
    "X_test = pd.concat([cateTest,dummyMSSubClassTest, oneHotTest,numTest],axis=1)"
   ]
  },
  {
   "cell_type": "code",
   "execution_count": 76,
   "metadata": {},
   "outputs": [
    {
     "data": {
      "text/plain": [
       "(1460, 523)"
      ]
     },
     "execution_count": 76,
     "metadata": {},
     "output_type": "execute_result"
    }
   ],
   "source": [
    "X_train.shape"
   ]
  },
  {
   "cell_type": "code",
   "execution_count": 77,
   "metadata": {},
   "outputs": [
    {
     "data": {
      "text/plain": [
       "(1459, 523)"
      ]
     },
     "execution_count": 77,
     "metadata": {},
     "output_type": "execute_result"
    }
   ],
   "source": [
    "X_test.shape"
   ]
  },
  {
   "cell_type": "code",
   "execution_count": 78,
   "metadata": {},
   "outputs": [],
   "source": [
    "finalData = X_test.copy()"
   ]
  },
  {
   "cell_type": "markdown",
   "metadata": {},
   "source": [
    "### PCA\n",
    "\n",
    "对数据进行PCA降维"
   ]
  },
  {
   "cell_type": "code",
   "execution_count": 79,
   "metadata": {},
   "outputs": [],
   "source": [
    "from sklearn.decomposition import PCA\n",
    "\n",
    "pca = PCA(n_components=447)#0.90\n",
    "\n",
    "X_scaled = pca.fit_transform(X_train)"
   ]
  },
  {
   "cell_type": "code",
   "execution_count": 80,
   "metadata": {},
   "outputs": [],
   "source": [
    "X_test = pca.transform(X_test)"
   ]
  },
  {
   "cell_type": "code",
   "execution_count": 81,
   "metadata": {},
   "outputs": [
    {
     "name": "stdout",
     "output_type": "stream",
     "text": [
      "(1460, 447)\n",
      "(1459, 447)\n"
     ]
    }
   ],
   "source": [
    "print(X_scaled.shape)\n",
    "print(X_test.shape)"
   ]
  },
  {
   "cell_type": "markdown",
   "metadata": {},
   "source": [
    "**对标签target对log处理**"
   ]
  },
  {
   "cell_type": "code",
   "execution_count": 164,
   "metadata": {},
   "outputs": [],
   "source": [
    "y_log = np.log(targets)\n",
    "#y_log1p = np.log1p(targets)# 加1处理：防止数字过小"
   ]
  },
  {
   "cell_type": "markdown",
   "metadata": {},
   "source": [
    "不管特征数量，直接使用模型进行训练;\n",
    "\n",
    "划分训练集和测试集:使用交叉验证"
   ]
  },
  {
   "cell_type": "code",
   "execution_count": 145,
   "metadata": {},
   "outputs": [],
   "source": [
    "# from sklearn.model_selection import train_test_split\n",
    "\n",
    "# X_train,X_test,y_train,y_test = train_test_split(X_train,targets,test_size=0.2,random_state=42)"
   ]
  },
  {
   "cell_type": "code",
   "execution_count": 146,
   "metadata": {},
   "outputs": [],
   "source": [
    "from sklearn.model_selection import cross_val_score\n",
    "def rmse_cv(model,X,y):\n",
    "    rmse = np.sqrt(-cross_val_score(model, X, y, scoring=\"neg_mean_squared_error\", cv=5))\n",
    "    return rmse"
   ]
  },
  {
   "cell_type": "code",
   "execution_count": 151,
   "metadata": {},
   "outputs": [
    {
     "name": "stdout",
     "output_type": "stream",
     "text": [
      "LR: 0.272893, 0.0797\n",
      "Ridge: 0.156057, 0.0241\n",
      "Lasso: 0.352715, 0.0191\n",
      "RF: 0.175900, 0.0077\n",
      "SGD: 0.235319, 0.0251\n",
      "SVR: 0.123422, 0.0120\n",
      "LinSVR: 0.173017, 0.0368\n"
     ]
    }
   ],
   "source": [
    "from sklearn.linear_model import LinearRegression,Ridge,Lasso,SGDRegressor\n",
    "from sklearn.ensemble import RandomForestRegressor\n",
    "from sklearn.svm import SVR,LinearSVR\n",
    "\n",
    "linReg = LinearRegression()\n",
    "ridge = Ridge()\n",
    "lasso = Lasso()\n",
    "sgdr = SGDRegressor()\n",
    "rfr = RandomForestRegressor()\n",
    "svr = SVR()\n",
    "linsvr = LinearSVR()\n",
    "\n",
    "names = [\"LR\", \"Ridge\", \"Lasso\", \"RF\", \"SGD\",\"SVR\", \"LinSVR\"]\n",
    "models = [linReg,ridge,lasso,rfr,sgdr,svr,linsvr]\n",
    "\n",
    "for name, model in zip(names, models):\n",
    "    score = rmse_cv(model, X_scaled, y_log)\n",
    "    print(\"{}: {:.6f}, {:.4f}\".format(name,score.mean(),score.std()))"
   ]
  },
  {
   "cell_type": "markdown",
   "metadata": {},
   "source": [
    "没有对target做log处理：\n",
    "\n",
    "LR: 64263.732879, 28575.9500\n",
    "Ridge: 36544.265443, 7013.9259\n",
    "Lasso: 46869.051568, 6440.3253\n",
    "RF: 32961.069183, 7174.4391\n",
    "SVR: 36431.104610, 4916.0113\n",
    "LinSVR: 81134.153083, 6155.6159\n",
    "SGD: 64263.732879, 28575.9500"
   ]
  },
  {
   "cell_type": "code",
   "execution_count": 148,
   "metadata": {},
   "outputs": [
    {
     "data": {
      "text/plain": [
       "LinearSVR(C=1.0, dual=True, epsilon=0.0, fit_intercept=True,\n",
       "     intercept_scaling=1.0, loss='epsilon_insensitive', max_iter=1000,\n",
       "     random_state=None, tol=0.0001, verbose=0)"
      ]
     },
     "execution_count": 148,
     "metadata": {},
     "output_type": "execute_result"
    }
   ],
   "source": [
    "linsvr.fit(X_scaled,y_log)"
   ]
  },
  {
   "cell_type": "code",
   "execution_count": 87,
   "metadata": {},
   "outputs": [],
   "source": [
    "preds = linsvr.predict(X_test)"
   ]
  },
  {
   "cell_type": "code",
   "execution_count": 96,
   "metadata": {},
   "outputs": [],
   "source": [
    "df = pd.DataFrame({'Id':Ids,'SalePrice':np.exp(preds)})\n",
    "df.to_csv('./output/easy.csv',index=False)"
   ]
  },
  {
   "cell_type": "markdown",
   "metadata": {},
   "source": [
    "**PCA之后，kaggle评测rmse从0.41869降低到0.18033；排名上升了565.**"
   ]
  },
  {
   "cell_type": "markdown",
   "metadata": {},
   "source": [
    "**对标签target做log处理之后，rmse从0.18033变为0.15115，排名提升了538!** COOL!"
   ]
  },
  {
   "cell_type": "markdown",
   "metadata": {},
   "source": [
    "### 尝试Ensembling\n",
    "\n",
    "最简单的Stacking\n",
    "\n",
    "**Simplest Stacking Strategy: Average the base models' scores!**"
   ]
  },
  {
   "cell_type": "code",
   "execution_count": 152,
   "metadata": {},
   "outputs": [],
   "source": [
    "from sklearn.base import BaseEstimator,RegressorMixin,TransformerMixin,clone"
   ]
  },
  {
   "cell_type": "code",
   "execution_count": 153,
   "metadata": {},
   "outputs": [],
   "source": [
    "# 新定义类Average scores\n",
    "\n",
    "class AveragingModels(BaseEstimator, RegressorMixin, TransformerMixin):\n",
    "    def __init__(self, models):\n",
    "        self.models = models\n",
    "        \n",
    "    # 将原始模型clone一份，对克隆后模型进行训练、预测----保证不会影响到原始模型；毕竟这是一个求loss的函数，对原始数据影响越小越好\n",
    "    def fit(self, X, y):\n",
    "        self.models_ = [clone(x) for x in self.models]\n",
    "        \n",
    "        # 训练cloned模型\n",
    "        for model in self.models_:\n",
    "            model.fit(X, y)\n",
    "\n",
    "        return self\n",
    "    \n",
    "    # 对每个模型在数据集上做预测，然后对各个模型的得分结果取平均\n",
    "    def predict(self, X):\n",
    "        predictions = np.column_stack([#将1D数组按照列横向拼接---列变多了，要保证每个1D数组长度相同\n",
    "            model.predict(X) for model in self.models_\n",
    "        ])\n",
    "        return np.mean(predictions, axis=1)    "
   ]
  },
  {
   "cell_type": "code",
   "execution_count": 157,
   "metadata": {},
   "outputs": [
    {
     "name": "stdout",
     "output_type": "stream",
     "text": [
      " Averaged base models score: 0.1356 (0.0182)\n",
      "\n"
     ]
    }
   ],
   "source": [
    "averaged_models = AveragingModels(models = (ridge,rfr,svr,linsvr))\n",
    "score = rmse_cv(averaged_models,X_scaled,y_log)\n",
    "print(\" Averaged base models score: {:.4f} ({:.4f})\\n\".format(score.mean(), score.std()))"
   ]
  },
  {
   "cell_type": "markdown",
   "metadata": {},
   "source": [
    "log1p处理: Averaged base models score: 0.1373 (0.0188)\n",
    "\n",
    "log处理： Averaged base models score: 0.1356 (0.0182)"
   ]
  },
  {
   "cell_type": "markdown",
   "metadata": {},
   "source": [
    "**Your submission scored 0.13095, which is an improvement of your previous score of 0.14981. Great job!**"
   ]
  },
  {
   "cell_type": "markdown",
   "metadata": {},
   "source": [
    " Averaged base models score: 0.1575 (0.0161)"
   ]
  },
  {
   "cell_type": "code",
   "execution_count": 107,
   "metadata": {},
   "outputs": [],
   "source": [
    "averaged_models.fit(X_scaled,y_log)\n",
    "pred_stack = averaged_models.predict(X_test)"
   ]
  },
  {
   "cell_type": "code",
   "execution_count": 108,
   "metadata": {},
   "outputs": [],
   "source": [
    "df = pd.DataFrame({'Id':Ids,'SalePrice':np.exp(pred_stack)})\n",
    "df.to_csv('./output/easyStackAverage.csv',index=False)"
   ]
  },
  {
   "cell_type": "code",
   "execution_count": 109,
   "metadata": {},
   "outputs": [
    {
     "name": "stdout",
     "output_type": "stream",
     "text": [
      " Averaged base models score: 0.1713 (0.0333)\n",
      "\n"
     ]
    }
   ],
   "source": [
    "ss = rmse_cv(linsvr,X_scaled,y_log)\n",
    "print(\" Averaged base models score: {:.4f} ({:.4f})\\n\".format(ss.mean(), ss.std()))"
   ]
  },
  {
   "cell_type": "markdown",
   "metadata": {},
   "source": [
    "**对标签target做log处理之后，rmse从0.15115变成了0.14981，排名提升了44! COOL!**\n",
    "\n",
    "**To Be Continued......**"
   ]
  },
  {
   "cell_type": "markdown",
   "metadata": {},
   "source": [
    "### **使用新的Ensemble方法：Stacking averaged Models Class**\n",
    "\n",
    "![](http://i.imgur.com/QBuDOjs.jpg)"
   ]
  },
  {
   "cell_type": "code",
   "execution_count": 165,
   "metadata": {},
   "outputs": [],
   "source": [
    "from sklearn.model_selection import KFold"
   ]
  },
  {
   "cell_type": "code",
   "execution_count": 181,
   "metadata": {},
   "outputs": [],
   "source": [
    "class StackingAveragedModels(BaseEstimator,RegressorMixin,TransformerMixin):\n",
    "    def __init__(self,base_models,meta_model,n_folds=5):\n",
    "        self.base_models = base_models\n",
    "        self.meta_model = meta_model\n",
    "        self.n_folds = n_folds\n",
    "    \n",
    "    # 在clone模型上进行模型训练：保证不对原始模型造成影响；原始模型只是指定了一个模型类；\n",
    "    def fit(self,X,y):\n",
    "        self.base_models_ = [list() for x in self.base_models]#保存每个模型类下的n_folds个训练模型\n",
    "        self.meta_model_ = clone(self.meta_model)\n",
    "        Kfold = KFold(n_splits=self.n_folds,shuffle=True,random_state=42)\n",
    "        \n",
    "        #定义新特征保存矩阵：每个模型在n_folds-1个fold上训练，创建out-of-fold的预测结果，n_folds迭代结果后，out-of-fold预测结果\n",
    "        #遍历所有训练集，形成新特征；最后n个模型的新特征在meta_model上训练即可；\n",
    "        out_of_fold_predicts = np.zeros((X.shape[0], len(self.base_models)))\n",
    "        \n",
    "        for i, model in enumerate(self.base_models):#遍历所有模型，新特征维度 等于 模型的个数\n",
    "            for train_index, holdout_index in Kfold.split(X,y):#对每个base模型进行训练，形成新特征\n",
    "                instance = clone(model)\n",
    "                self.base_models_[i].append(instance)\n",
    "#                 print(self.base_models_[i])\n",
    "                instance.fit(X[train_index],y.as_matrix()[train_index])\n",
    "                y_pred = instance.predict(X[holdout_index])\n",
    "                #第k次模型训练在留出折上的预测结果；n_folds遍历结果后，形成模型i的在训练集上的所有预测\n",
    "                out_of_fold_predicts[holdout_index, i] = y_pred\n",
    "        #在新特征上对meta_model进行训练\n",
    "        self.meta_model_.fit(out_of_fold_predicts,y)\n",
    "        \n",
    "        return self\n",
    "    \n",
    "    #在对数据进行预测之前需要先将数据X转换过到新特征维度上，才能开始预测\n",
    "    def predict(self,X):#axis=1 cross; axis=0 down\n",
    "        meta_features = np.column_stack([\n",
    "            np.column_stack([model.predict(X) for model in base_models]).mean(axis=1)#对每行取平均；最后剩一列\n",
    "            for base_models in self.base_models_ ])\n",
    "        return self.meta_model_.predict(meta_features)"
   ]
  },
  {
   "cell_type": "code",
   "execution_count": 182,
   "metadata": {},
   "outputs": [
    {
     "data": {
      "text/plain": [
       "False"
      ]
     },
     "execution_count": 182,
     "metadata": {},
     "output_type": "execute_result"
    }
   ],
   "source": [
    "np.any(np.isnan(X_scaled))"
   ]
  },
  {
   "cell_type": "code",
   "execution_count": 183,
   "metadata": {},
   "outputs": [
    {
     "data": {
      "text/plain": [
       "False"
      ]
     },
     "execution_count": 183,
     "metadata": {},
     "output_type": "execute_result"
    }
   ],
   "source": [
    "np.any(np.isnan(y_log))"
   ]
  },
  {
   "cell_type": "code",
   "execution_count": 184,
   "metadata": {},
   "outputs": [
    {
     "name": "stdout",
     "output_type": "stream",
     "text": [
      "<class 'numpy.ndarray'>\n",
      "<class 'pandas.core.series.Series'>\n"
     ]
    }
   ],
   "source": [
    "print(type(X_scaled))\n",
    "print(type(y_log))"
   ]
  },
  {
   "cell_type": "markdown",
   "metadata": {},
   "source": [
    "将y_log从series转换成numpy形式"
   ]
  },
  {
   "cell_type": "code",
   "execution_count": 187,
   "metadata": {},
   "outputs": [
    {
     "name": "stdout",
     "output_type": "stream",
     "text": [
      " Averaged base models score: 0.1265 (0.0145)\n",
      "\n"
     ]
    }
   ],
   "source": [
    "stacked_models = StackingAveragedModels(base_models=(ridge,sgdr,rfr,svr),meta_model=linReg)\n",
    "score = rmse_cv(stacked_models,X_scaled,y_log)\n",
    "print(\" Averaged base models score: {:.4f} ({:.4f})\\n\".format(score.mean(), score.std()))"
   ]
  },
  {
   "cell_type": "markdown",
   "metadata": {},
   "source": [
    "错误：ValueError: Input contains NaN, infinity or a value too large for dtype('float64').\n",
    "\n",
    "**原因是:送到模型的数据或者标签不是numpy形式，是dataframe或series导致的**\n",
    "\n",
    "**解决方法：将数据转换成numpy**"
   ]
  },
  {
   "cell_type": "code",
   "execution_count": 188,
   "metadata": {},
   "outputs": [],
   "source": [
    "stacked_models.fit(X_scaled, y_log)\n",
    "stacked_train_pred = stacked_models.predict(X_scaled)\n",
    "stacked_pred = stacked_models.predict(X_test)"
   ]
  },
  {
   "cell_type": "markdown",
   "metadata": {},
   "source": [
    "0.10248793327764291\n"
   ]
  },
  {
   "cell_type": "code",
   "execution_count": 189,
   "metadata": {},
   "outputs": [],
   "source": [
    "df = pd.DataFrame({'Id':Ids,'SalePrice':np.exp(stacked_pred)})\n",
    "df.to_csv('./output/easyStack.csv',index=False)"
   ]
  },
  {
   "cell_type": "markdown",
   "metadata": {},
   "source": [
    "**Your submission scored 0.12506, which is an improvement of your previous score of 0.13095. Great job!**\n",
    "\n",
    "有帮助！！！COOL！！！"
   ]
  },
  {
   "cell_type": "code",
   "execution_count": null,
   "metadata": {},
   "outputs": [],
   "source": []
  }
 ],
 "metadata": {
  "kernelspec": {
   "display_name": "Python 3",
   "language": "python",
   "name": "python3"
  },
  "language_info": {
   "codemirror_mode": {
    "name": "ipython",
    "version": 3
   },
   "file_extension": ".py",
   "mimetype": "text/x-python",
   "name": "python",
   "nbconvert_exporter": "python",
   "pygments_lexer": "ipython3",
   "version": "3.6.5"
  }
 },
 "nbformat": 4,
 "nbformat_minor": 2
}
